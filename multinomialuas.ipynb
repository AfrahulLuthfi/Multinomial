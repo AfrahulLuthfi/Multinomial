{
 "cells": [
  {
   "cell_type": "code",
   "execution_count": 1,
   "id": "636d4f3f",
   "metadata": {
    "_cell_guid": "b1076dfc-b9ad-4769-8c92-a6c4dae69d19",
    "_uuid": "8f2839f25d086af736a60e9eeb907d3b93b6e0e5",
    "execution": {
     "iopub.execute_input": "2022-07-05T15:38:04.336414Z",
     "iopub.status.busy": "2022-07-05T15:38:04.335821Z",
     "iopub.status.idle": "2022-07-05T15:38:04.359019Z",
     "shell.execute_reply": "2022-07-05T15:38:04.358265Z"
    },
    "papermill": {
     "duration": 0.032867,
     "end_time": "2022-07-05T15:38:04.361937",
     "exception": false,
     "start_time": "2022-07-05T15:38:04.329070",
     "status": "completed"
    },
    "tags": []
   },
   "outputs": [
    {
     "name": "stdout",
     "output_type": "stream",
     "text": [
      "/kaggle/input/pertambanganuas/pertambanganUAS.csv\n"
     ]
    }
   ],
   "source": [
    "# This Python 3 environment comes with many helpful analytics libraries installed\n",
    "# It is defined by the kaggle/python Docker image: https://github.com/kaggle/docker-python\n",
    "# For example, here's several helpful packages to load\n",
    "\n",
    "import numpy as np # linear algebra\n",
    "import pandas as pd # data processing, CSV file I/O (e.g. pd.read_csv)\n",
    "\n",
    "# Input data files are available in the read-only \"../input/\" directory\n",
    "# For example, running this (by clicking run or pressing Shift+Enter) will list all files under the input directory\n",
    "\n",
    "import os\n",
    "for dirname, _, filenames in os.walk('/kaggle/input'):\n",
    "    for filename in filenames:\n",
    "        print(os.path.join(dirname, filename))\n",
    "\n",
    "# You can write up to 20GB to the current directory (/kaggle/working/) that gets preserved as output when you create a version using \"Save & Run All\" \n",
    "# You can also write temporary files to /kaggle/temp/, but they won't be saved outside of the current session"
   ]
  },
  {
   "cell_type": "code",
   "execution_count": 2,
   "id": "a1ae87f7",
   "metadata": {
    "execution": {
     "iopub.execute_input": "2022-07-05T15:38:04.374056Z",
     "iopub.status.busy": "2022-07-05T15:38:04.373682Z",
     "iopub.status.idle": "2022-07-05T15:38:05.952696Z",
     "shell.execute_reply": "2022-07-05T15:38:05.951736Z"
    },
    "papermill": {
     "duration": 1.587833,
     "end_time": "2022-07-05T15:38:05.955975",
     "exception": false,
     "start_time": "2022-07-05T15:38:04.368142",
     "status": "completed"
    },
    "tags": []
   },
   "outputs": [],
   "source": [
    "import pandas as pd\n",
    "import seaborn as sns\n",
    "from sklearn.metrics import classification_report\n",
    "from sklearn.metrics import accuracy_score\n",
    "from sklearn.model_selection import train_test_split\n",
    "from sklearn.linear_model import LogisticRegression"
   ]
  },
  {
   "cell_type": "code",
   "execution_count": 3,
   "id": "a23e61a9",
   "metadata": {
    "execution": {
     "iopub.execute_input": "2022-07-05T15:38:05.968016Z",
     "iopub.status.busy": "2022-07-05T15:38:05.966953Z",
     "iopub.status.idle": "2022-07-05T15:38:06.004568Z",
     "shell.execute_reply": "2022-07-05T15:38:06.003201Z"
    },
    "papermill": {
     "duration": 0.046482,
     "end_time": "2022-07-05T15:38:06.007414",
     "exception": false,
     "start_time": "2022-07-05T15:38:05.960932",
     "status": "completed"
    },
    "tags": []
   },
   "outputs": [
    {
     "data": {
      "text/html": [
       "<div>\n",
       "<style scoped>\n",
       "    .dataframe tbody tr th:only-of-type {\n",
       "        vertical-align: middle;\n",
       "    }\n",
       "\n",
       "    .dataframe tbody tr th {\n",
       "        vertical-align: top;\n",
       "    }\n",
       "\n",
       "    .dataframe thead th {\n",
       "        text-align: right;\n",
       "    }\n",
       "</style>\n",
       "<table border=\"1\" class=\"dataframe\">\n",
       "  <thead>\n",
       "    <tr style=\"text-align: right;\">\n",
       "      <th></th>\n",
       "      <th>Emitten</th>\n",
       "      <th>DER</th>\n",
       "      <th>Operating Profit Margin</th>\n",
       "      <th>Return On Asset</th>\n",
       "      <th>Sales Growth</th>\n",
       "      <th>Category</th>\n",
       "    </tr>\n",
       "  </thead>\n",
       "  <tbody>\n",
       "    <tr>\n",
       "      <th>0</th>\n",
       "      <td>ADRO</td>\n",
       "      <td>0.65</td>\n",
       "      <td>6.663</td>\n",
       "      <td>0.06000</td>\n",
       "      <td>0.575136</td>\n",
       "      <td>2</td>\n",
       "    </tr>\n",
       "    <tr>\n",
       "      <th>1</th>\n",
       "      <td>APEX</td>\n",
       "      <td>1.69</td>\n",
       "      <td>42.550</td>\n",
       "      <td>0.18000</td>\n",
       "      <td>0.189673</td>\n",
       "      <td>1</td>\n",
       "    </tr>\n",
       "    <tr>\n",
       "      <th>2</th>\n",
       "      <td>ARII</td>\n",
       "      <td>8.94</td>\n",
       "      <td>15.080</td>\n",
       "      <td>-0.03865</td>\n",
       "      <td>-0.328694</td>\n",
       "      <td>1</td>\n",
       "    </tr>\n",
       "    <tr>\n",
       "      <th>3</th>\n",
       "      <td>ARTI</td>\n",
       "      <td>-5.43</td>\n",
       "      <td>-30.070</td>\n",
       "      <td>-1.19000</td>\n",
       "      <td>0.000000</td>\n",
       "      <td>1</td>\n",
       "    </tr>\n",
       "    <tr>\n",
       "      <th>4</th>\n",
       "      <td>BIPI</td>\n",
       "      <td>1.42</td>\n",
       "      <td>265.900</td>\n",
       "      <td>0.01000</td>\n",
       "      <td>0.107550</td>\n",
       "      <td>1</td>\n",
       "    </tr>\n",
       "  </tbody>\n",
       "</table>\n",
       "</div>"
      ],
      "text/plain": [
       "  Emitten   DER  Operating Profit Margin  Return On Asset  Sales Growth  \\\n",
       "0    ADRO  0.65                    6.663          0.06000      0.575136   \n",
       "1    APEX  1.69                   42.550          0.18000      0.189673   \n",
       "2    ARII  8.94                   15.080         -0.03865     -0.328694   \n",
       "3    ARTI -5.43                  -30.070         -1.19000      0.000000   \n",
       "4    BIPI  1.42                  265.900          0.01000      0.107550   \n",
       "\n",
       "   Category  \n",
       "0         2  \n",
       "1         1  \n",
       "2         1  \n",
       "3         1  \n",
       "4         1  "
      ]
     },
     "execution_count": 3,
     "metadata": {},
     "output_type": "execute_result"
    }
   ],
   "source": [
    "df = pd.read_csv('../input/pertambanganuas/pertambanganUAS.csv')\n",
    "df.head()"
   ]
  },
  {
   "cell_type": "code",
   "execution_count": 4,
   "id": "5b96ed8c",
   "metadata": {
    "execution": {
     "iopub.execute_input": "2022-07-05T15:38:06.018329Z",
     "iopub.status.busy": "2022-07-05T15:38:06.017807Z",
     "iopub.status.idle": "2022-07-05T15:38:06.027357Z",
     "shell.execute_reply": "2022-07-05T15:38:06.026078Z"
    },
    "papermill": {
     "duration": 0.017784,
     "end_time": "2022-07-05T15:38:06.029734",
     "exception": false,
     "start_time": "2022-07-05T15:38:06.011950",
     "status": "completed"
    },
    "tags": []
   },
   "outputs": [
    {
     "data": {
      "text/plain": [
       "array([['ADRO', 0.65, 6.663, 0.06, 0.5751356494803226, 2],\n",
       "       ['APEX', 1.69, 42.55, 0.18, 0.1896728016359918, 1],\n",
       "       ['ARII', 8.94, 15.08, -0.038650007, -0.3286944891167619, 1],\n",
       "       ['ARTI', -5.43, -30.07, -1.19, 0.0, 1],\n",
       "       ['BIPI', 1.42, 265.9, 0.01, 0.1075499379302562, 1],\n",
       "       ['BOSS', -26.25, -109.0, -0.3, -0.3717766830120759, 4],\n",
       "       ['BSSR', 0.58, 1.485, 0.41, 1.085816257572466, 2],\n",
       "       ['BUMI', 12.22, 1.02, 0.02, 0.709, 2],\n",
       "       ['BYAN', 0.47, 9.74, 0.46, 1.044436543849853, 2],\n",
       "       ['DEWA', 1.11, 24.64, -0.1202273, -0.1202737873824522, 1],\n",
       "       ['DOID', 4.61, -230.61, -0.02, -0.3176640825935687, 1],\n",
       "       ['DSSA', 0.65, 1.946, -0.02, 0.4362863409410862, 2],\n",
       "       ['ELSA', 0.9, 37.56, 0.01, 0.0530116365523502, 1],\n",
       "       ['ENRG', 1.5, 257.32, 0.03, 0.2499799927358241, 1],\n",
       "       ['FIRE', 0.47, 18.66, 0.03, 0.785, 2],\n",
       "       ['GEMS', 1.15, 2.862, 0.31, 0.4941954569864614, 2],\n",
       "       ['GTBO', 0.32, -9.54, -0.02, 0.0, 1],\n",
       "       ['HRUM', 0.31, 744.89, 0.1, 1.130136422103802, 2],\n",
       "       ['INDY', 3.32, -120.22, -0.02, 0.477538643142828, 2],\n",
       "       ['ITMG', 0.45, 3.887, 0.24, 1.185336, 2],\n",
       "       ['KKGI', 0.31, 131.79, 0.08, 0.8297748608457257, 2],\n",
       "       ['MBAP', 0.52, 699.71, 0.29, 0.5399066632870626, 1],\n",
       "       ['MEDC', 3.28, 1.006, 0.01, -0.2398798296033278, 1],\n",
       "       ['MITI', 0.28, 3.29, 0.0, 0.0, 4],\n",
       "       ['MTFN', -20.54, -17.39, -0.08, -0.1109112276428414, 1],\n",
       "       ['MYON', 0.15, 304.46, 0.18, -0.0738447703375761, 1],\n",
       "       ['PKPK', 0.77, -2.54, -0.06, 0.0, 2],\n",
       "       ['PTBA', 0.53, 4.853, 0.2, 0.6889549045113035, 1],\n",
       "       ['PTRO', 1.2, 208.16, 0.06, 0.2202865965340722, 1],\n",
       "       ['RUIS', 1.84, 14.21, 0.01, 0.0125241905977853, 2],\n",
       "       ['SMMT', 0.4, 128.07, 0.17, 1.426755676840759, 1],\n",
       "       ['SMRU', 1.9, -16.75, -0.02, 0.0, 1],\n",
       "       ['SURE', 0.85, -50.13, -0.05, 0.1506294659163516, 1],\n",
       "       ['TOBA', 1.48, 643.74, 0.06, -0.3683789893515805, 1],\n",
       "       ['TRAM', 0.74, -39.57, 0.0, 0.0, 2],\n",
       "       ['WOWS', 0.27, 0.29, -0.01, 0.0, 2]], dtype=object)"
      ]
     },
     "execution_count": 4,
     "metadata": {},
     "output_type": "execute_result"
    }
   ],
   "source": [
    "np.asarray(df)"
   ]
  },
  {
   "cell_type": "code",
   "execution_count": 5,
   "id": "3bd42449",
   "metadata": {
    "execution": {
     "iopub.execute_input": "2022-07-05T15:38:06.041132Z",
     "iopub.status.busy": "2022-07-05T15:38:06.039956Z",
     "iopub.status.idle": "2022-07-05T15:38:06.822941Z",
     "shell.execute_reply": "2022-07-05T15:38:06.821923Z"
    },
    "papermill": {
     "duration": 0.790994,
     "end_time": "2022-07-05T15:38:06.825394",
     "exception": false,
     "start_time": "2022-07-05T15:38:06.034400",
     "status": "completed"
    },
    "tags": []
   },
   "outputs": [],
   "source": [
    "import statsmodels.api as sm"
   ]
  },
  {
   "cell_type": "code",
   "execution_count": 6,
   "id": "ab234acd",
   "metadata": {
    "execution": {
     "iopub.execute_input": "2022-07-05T15:38:06.838137Z",
     "iopub.status.busy": "2022-07-05T15:38:06.837097Z",
     "iopub.status.idle": "2022-07-05T15:38:06.848962Z",
     "shell.execute_reply": "2022-07-05T15:38:06.848198Z"
    },
    "papermill": {
     "duration": 0.019908,
     "end_time": "2022-07-05T15:38:06.851195",
     "exception": false,
     "start_time": "2022-07-05T15:38:06.831287",
     "status": "completed"
    },
    "tags": []
   },
   "outputs": [],
   "source": [
    "df.drop(['Emitten'], axis=1, inplace=True)"
   ]
  },
  {
   "cell_type": "code",
   "execution_count": 7,
   "id": "b5f6d88d",
   "metadata": {
    "execution": {
     "iopub.execute_input": "2022-07-05T15:38:06.861585Z",
     "iopub.status.busy": "2022-07-05T15:38:06.861156Z",
     "iopub.status.idle": "2022-07-05T15:38:06.874167Z",
     "shell.execute_reply": "2022-07-05T15:38:06.873125Z"
    },
    "papermill": {
     "duration": 0.020517,
     "end_time": "2022-07-05T15:38:06.876194",
     "exception": false,
     "start_time": "2022-07-05T15:38:06.855677",
     "status": "completed"
    },
    "tags": []
   },
   "outputs": [
    {
     "data": {
      "text/html": [
       "<div>\n",
       "<style scoped>\n",
       "    .dataframe tbody tr th:only-of-type {\n",
       "        vertical-align: middle;\n",
       "    }\n",
       "\n",
       "    .dataframe tbody tr th {\n",
       "        vertical-align: top;\n",
       "    }\n",
       "\n",
       "    .dataframe thead th {\n",
       "        text-align: right;\n",
       "    }\n",
       "</style>\n",
       "<table border=\"1\" class=\"dataframe\">\n",
       "  <thead>\n",
       "    <tr style=\"text-align: right;\">\n",
       "      <th></th>\n",
       "      <th>DER</th>\n",
       "      <th>Operating Profit Margin</th>\n",
       "      <th>Return On Asset</th>\n",
       "      <th>Sales Growth</th>\n",
       "    </tr>\n",
       "  </thead>\n",
       "  <tbody>\n",
       "    <tr>\n",
       "      <th>0</th>\n",
       "      <td>0.65</td>\n",
       "      <td>6.663</td>\n",
       "      <td>0.06000</td>\n",
       "      <td>0.575136</td>\n",
       "    </tr>\n",
       "    <tr>\n",
       "      <th>1</th>\n",
       "      <td>1.69</td>\n",
       "      <td>42.550</td>\n",
       "      <td>0.18000</td>\n",
       "      <td>0.189673</td>\n",
       "    </tr>\n",
       "    <tr>\n",
       "      <th>2</th>\n",
       "      <td>8.94</td>\n",
       "      <td>15.080</td>\n",
       "      <td>-0.03865</td>\n",
       "      <td>-0.328694</td>\n",
       "    </tr>\n",
       "    <tr>\n",
       "      <th>3</th>\n",
       "      <td>-5.43</td>\n",
       "      <td>-30.070</td>\n",
       "      <td>-1.19000</td>\n",
       "      <td>0.000000</td>\n",
       "    </tr>\n",
       "    <tr>\n",
       "      <th>4</th>\n",
       "      <td>1.42</td>\n",
       "      <td>265.900</td>\n",
       "      <td>0.01000</td>\n",
       "      <td>0.107550</td>\n",
       "    </tr>\n",
       "  </tbody>\n",
       "</table>\n",
       "</div>"
      ],
      "text/plain": [
       "    DER  Operating Profit Margin  Return On Asset  Sales Growth\n",
       "0  0.65                    6.663          0.06000      0.575136\n",
       "1  1.69                   42.550          0.18000      0.189673\n",
       "2  8.94                   15.080         -0.03865     -0.328694\n",
       "3 -5.43                  -30.070         -1.19000      0.000000\n",
       "4  1.42                  265.900          0.01000      0.107550"
      ]
     },
     "execution_count": 7,
     "metadata": {},
     "output_type": "execute_result"
    }
   ],
   "source": [
    "x = df.drop('Category', axis=1)\n",
    "x.head()"
   ]
  },
  {
   "cell_type": "code",
   "execution_count": 8,
   "id": "eed5af43",
   "metadata": {
    "execution": {
     "iopub.execute_input": "2022-07-05T15:38:06.886765Z",
     "iopub.status.busy": "2022-07-05T15:38:06.886378Z",
     "iopub.status.idle": "2022-07-05T15:38:06.895881Z",
     "shell.execute_reply": "2022-07-05T15:38:06.894806Z"
    },
    "papermill": {
     "duration": 0.017402,
     "end_time": "2022-07-05T15:38:06.898115",
     "exception": false,
     "start_time": "2022-07-05T15:38:06.880713",
     "status": "completed"
    },
    "tags": []
   },
   "outputs": [
    {
     "data": {
      "text/plain": [
       "0    2\n",
       "1    1\n",
       "2    1\n",
       "3    1\n",
       "4    1\n",
       "Name: Category, dtype: int64"
      ]
     },
     "execution_count": 8,
     "metadata": {},
     "output_type": "execute_result"
    }
   ],
   "source": [
    "y = df['Category']\n",
    "y.head()"
   ]
  },
  {
   "cell_type": "code",
   "execution_count": 9,
   "id": "4e1f23ef",
   "metadata": {
    "execution": {
     "iopub.execute_input": "2022-07-05T15:38:06.909911Z",
     "iopub.status.busy": "2022-07-05T15:38:06.908752Z",
     "iopub.status.idle": "2022-07-05T15:38:06.915380Z",
     "shell.execute_reply": "2022-07-05T15:38:06.914563Z"
    },
    "papermill": {
     "duration": 0.014761,
     "end_time": "2022-07-05T15:38:06.917648",
     "exception": false,
     "start_time": "2022-07-05T15:38:06.902887",
     "status": "completed"
    },
    "tags": []
   },
   "outputs": [],
   "source": [
    "x_train, x_test, y_train, y_test = train_test_split(x,y, test_size=0.2)"
   ]
  },
  {
   "cell_type": "code",
   "execution_count": 10,
   "id": "dd7ea141",
   "metadata": {
    "execution": {
     "iopub.execute_input": "2022-07-05T15:38:06.928472Z",
     "iopub.status.busy": "2022-07-05T15:38:06.927889Z",
     "iopub.status.idle": "2022-07-05T15:38:06.949399Z",
     "shell.execute_reply": "2022-07-05T15:38:06.948231Z"
    },
    "papermill": {
     "duration": 0.029394,
     "end_time": "2022-07-05T15:38:06.951526",
     "exception": false,
     "start_time": "2022-07-05T15:38:06.922132",
     "status": "completed"
    },
    "tags": []
   },
   "outputs": [
    {
     "data": {
      "text/html": [
       "<div>\n",
       "<style scoped>\n",
       "    .dataframe tbody tr th:only-of-type {\n",
       "        vertical-align: middle;\n",
       "    }\n",
       "\n",
       "    .dataframe tbody tr th {\n",
       "        vertical-align: top;\n",
       "    }\n",
       "\n",
       "    .dataframe thead th {\n",
       "        text-align: right;\n",
       "    }\n",
       "</style>\n",
       "<table border=\"1\" class=\"dataframe\">\n",
       "  <thead>\n",
       "    <tr style=\"text-align: right;\">\n",
       "      <th></th>\n",
       "      <th>const</th>\n",
       "      <th>DER</th>\n",
       "      <th>Operating Profit Margin</th>\n",
       "      <th>Return On Asset</th>\n",
       "      <th>Sales Growth</th>\n",
       "    </tr>\n",
       "  </thead>\n",
       "  <tbody>\n",
       "    <tr>\n",
       "      <th>32</th>\n",
       "      <td>1.0</td>\n",
       "      <td>0.85</td>\n",
       "      <td>-50.130</td>\n",
       "      <td>-0.050000</td>\n",
       "      <td>0.150629</td>\n",
       "    </tr>\n",
       "    <tr>\n",
       "      <th>8</th>\n",
       "      <td>1.0</td>\n",
       "      <td>0.47</td>\n",
       "      <td>9.740</td>\n",
       "      <td>0.460000</td>\n",
       "      <td>1.044437</td>\n",
       "    </tr>\n",
       "    <tr>\n",
       "      <th>28</th>\n",
       "      <td>1.0</td>\n",
       "      <td>1.20</td>\n",
       "      <td>208.160</td>\n",
       "      <td>0.060000</td>\n",
       "      <td>0.220287</td>\n",
       "    </tr>\n",
       "    <tr>\n",
       "      <th>24</th>\n",
       "      <td>1.0</td>\n",
       "      <td>-20.54</td>\n",
       "      <td>-17.390</td>\n",
       "      <td>-0.080000</td>\n",
       "      <td>-0.110911</td>\n",
       "    </tr>\n",
       "    <tr>\n",
       "      <th>11</th>\n",
       "      <td>1.0</td>\n",
       "      <td>0.65</td>\n",
       "      <td>1.946</td>\n",
       "      <td>-0.020000</td>\n",
       "      <td>0.436286</td>\n",
       "    </tr>\n",
       "    <tr>\n",
       "      <th>15</th>\n",
       "      <td>1.0</td>\n",
       "      <td>1.15</td>\n",
       "      <td>2.862</td>\n",
       "      <td>0.310000</td>\n",
       "      <td>0.494195</td>\n",
       "    </tr>\n",
       "    <tr>\n",
       "      <th>9</th>\n",
       "      <td>1.0</td>\n",
       "      <td>1.11</td>\n",
       "      <td>24.640</td>\n",
       "      <td>-0.120227</td>\n",
       "      <td>-0.120274</td>\n",
       "    </tr>\n",
       "    <tr>\n",
       "      <th>13</th>\n",
       "      <td>1.0</td>\n",
       "      <td>1.50</td>\n",
       "      <td>257.320</td>\n",
       "      <td>0.030000</td>\n",
       "      <td>0.249980</td>\n",
       "    </tr>\n",
       "    <tr>\n",
       "      <th>3</th>\n",
       "      <td>1.0</td>\n",
       "      <td>-5.43</td>\n",
       "      <td>-30.070</td>\n",
       "      <td>-1.190000</td>\n",
       "      <td>0.000000</td>\n",
       "    </tr>\n",
       "    <tr>\n",
       "      <th>1</th>\n",
       "      <td>1.0</td>\n",
       "      <td>1.69</td>\n",
       "      <td>42.550</td>\n",
       "      <td>0.180000</td>\n",
       "      <td>0.189673</td>\n",
       "    </tr>\n",
       "    <tr>\n",
       "      <th>5</th>\n",
       "      <td>1.0</td>\n",
       "      <td>-26.25</td>\n",
       "      <td>-109.000</td>\n",
       "      <td>-0.300000</td>\n",
       "      <td>-0.371777</td>\n",
       "    </tr>\n",
       "    <tr>\n",
       "      <th>6</th>\n",
       "      <td>1.0</td>\n",
       "      <td>0.58</td>\n",
       "      <td>1.485</td>\n",
       "      <td>0.410000</td>\n",
       "      <td>1.085816</td>\n",
       "    </tr>\n",
       "    <tr>\n",
       "      <th>4</th>\n",
       "      <td>1.0</td>\n",
       "      <td>1.42</td>\n",
       "      <td>265.900</td>\n",
       "      <td>0.010000</td>\n",
       "      <td>0.107550</td>\n",
       "    </tr>\n",
       "    <tr>\n",
       "      <th>27</th>\n",
       "      <td>1.0</td>\n",
       "      <td>0.53</td>\n",
       "      <td>4.853</td>\n",
       "      <td>0.200000</td>\n",
       "      <td>0.688955</td>\n",
       "    </tr>\n",
       "    <tr>\n",
       "      <th>16</th>\n",
       "      <td>1.0</td>\n",
       "      <td>0.32</td>\n",
       "      <td>-9.540</td>\n",
       "      <td>-0.020000</td>\n",
       "      <td>0.000000</td>\n",
       "    </tr>\n",
       "    <tr>\n",
       "      <th>7</th>\n",
       "      <td>1.0</td>\n",
       "      <td>12.22</td>\n",
       "      <td>1.020</td>\n",
       "      <td>0.020000</td>\n",
       "      <td>0.709000</td>\n",
       "    </tr>\n",
       "    <tr>\n",
       "      <th>23</th>\n",
       "      <td>1.0</td>\n",
       "      <td>0.28</td>\n",
       "      <td>3.290</td>\n",
       "      <td>0.000000</td>\n",
       "      <td>0.000000</td>\n",
       "    </tr>\n",
       "    <tr>\n",
       "      <th>20</th>\n",
       "      <td>1.0</td>\n",
       "      <td>0.31</td>\n",
       "      <td>131.790</td>\n",
       "      <td>0.080000</td>\n",
       "      <td>0.829775</td>\n",
       "    </tr>\n",
       "    <tr>\n",
       "      <th>14</th>\n",
       "      <td>1.0</td>\n",
       "      <td>0.47</td>\n",
       "      <td>18.660</td>\n",
       "      <td>0.030000</td>\n",
       "      <td>0.785000</td>\n",
       "    </tr>\n",
       "    <tr>\n",
       "      <th>0</th>\n",
       "      <td>1.0</td>\n",
       "      <td>0.65</td>\n",
       "      <td>6.663</td>\n",
       "      <td>0.060000</td>\n",
       "      <td>0.575136</td>\n",
       "    </tr>\n",
       "    <tr>\n",
       "      <th>19</th>\n",
       "      <td>1.0</td>\n",
       "      <td>0.45</td>\n",
       "      <td>3.887</td>\n",
       "      <td>0.240000</td>\n",
       "      <td>1.185336</td>\n",
       "    </tr>\n",
       "    <tr>\n",
       "      <th>2</th>\n",
       "      <td>1.0</td>\n",
       "      <td>8.94</td>\n",
       "      <td>15.080</td>\n",
       "      <td>-0.038650</td>\n",
       "      <td>-0.328694</td>\n",
       "    </tr>\n",
       "    <tr>\n",
       "      <th>12</th>\n",
       "      <td>1.0</td>\n",
       "      <td>0.90</td>\n",
       "      <td>37.560</td>\n",
       "      <td>0.010000</td>\n",
       "      <td>0.053012</td>\n",
       "    </tr>\n",
       "    <tr>\n",
       "      <th>17</th>\n",
       "      <td>1.0</td>\n",
       "      <td>0.31</td>\n",
       "      <td>744.890</td>\n",
       "      <td>0.100000</td>\n",
       "      <td>1.130136</td>\n",
       "    </tr>\n",
       "    <tr>\n",
       "      <th>34</th>\n",
       "      <td>1.0</td>\n",
       "      <td>0.74</td>\n",
       "      <td>-39.570</td>\n",
       "      <td>0.000000</td>\n",
       "      <td>0.000000</td>\n",
       "    </tr>\n",
       "    <tr>\n",
       "      <th>22</th>\n",
       "      <td>1.0</td>\n",
       "      <td>3.28</td>\n",
       "      <td>1.006</td>\n",
       "      <td>0.010000</td>\n",
       "      <td>-0.239880</td>\n",
       "    </tr>\n",
       "    <tr>\n",
       "      <th>10</th>\n",
       "      <td>1.0</td>\n",
       "      <td>4.61</td>\n",
       "      <td>-230.610</td>\n",
       "      <td>-0.020000</td>\n",
       "      <td>-0.317664</td>\n",
       "    </tr>\n",
       "    <tr>\n",
       "      <th>18</th>\n",
       "      <td>1.0</td>\n",
       "      <td>3.32</td>\n",
       "      <td>-120.220</td>\n",
       "      <td>-0.020000</td>\n",
       "      <td>0.477539</td>\n",
       "    </tr>\n",
       "  </tbody>\n",
       "</table>\n",
       "</div>"
      ],
      "text/plain": [
       "    const    DER  Operating Profit Margin  Return On Asset  Sales Growth\n",
       "32    1.0   0.85                  -50.130        -0.050000      0.150629\n",
       "8     1.0   0.47                    9.740         0.460000      1.044437\n",
       "28    1.0   1.20                  208.160         0.060000      0.220287\n",
       "24    1.0 -20.54                  -17.390        -0.080000     -0.110911\n",
       "11    1.0   0.65                    1.946        -0.020000      0.436286\n",
       "15    1.0   1.15                    2.862         0.310000      0.494195\n",
       "9     1.0   1.11                   24.640        -0.120227     -0.120274\n",
       "13    1.0   1.50                  257.320         0.030000      0.249980\n",
       "3     1.0  -5.43                  -30.070        -1.190000      0.000000\n",
       "1     1.0   1.69                   42.550         0.180000      0.189673\n",
       "5     1.0 -26.25                 -109.000        -0.300000     -0.371777\n",
       "6     1.0   0.58                    1.485         0.410000      1.085816\n",
       "4     1.0   1.42                  265.900         0.010000      0.107550\n",
       "27    1.0   0.53                    4.853         0.200000      0.688955\n",
       "16    1.0   0.32                   -9.540        -0.020000      0.000000\n",
       "7     1.0  12.22                    1.020         0.020000      0.709000\n",
       "23    1.0   0.28                    3.290         0.000000      0.000000\n",
       "20    1.0   0.31                  131.790         0.080000      0.829775\n",
       "14    1.0   0.47                   18.660         0.030000      0.785000\n",
       "0     1.0   0.65                    6.663         0.060000      0.575136\n",
       "19    1.0   0.45                    3.887         0.240000      1.185336\n",
       "2     1.0   8.94                   15.080        -0.038650     -0.328694\n",
       "12    1.0   0.90                   37.560         0.010000      0.053012\n",
       "17    1.0   0.31                  744.890         0.100000      1.130136\n",
       "34    1.0   0.74                  -39.570         0.000000      0.000000\n",
       "22    1.0   3.28                    1.006         0.010000     -0.239880\n",
       "10    1.0   4.61                 -230.610        -0.020000     -0.317664\n",
       "18    1.0   3.32                 -120.220        -0.020000      0.477539"
      ]
     },
     "execution_count": 10,
     "metadata": {},
     "output_type": "execute_result"
    }
   ],
   "source": [
    "x_train_sm = sm.add_constant(x_train)\n",
    "x_train_sm"
   ]
  },
  {
   "cell_type": "code",
   "execution_count": 11,
   "id": "05a46b26",
   "metadata": {
    "execution": {
     "iopub.execute_input": "2022-07-05T15:38:06.963313Z",
     "iopub.status.busy": "2022-07-05T15:38:06.962654Z",
     "iopub.status.idle": "2022-07-05T15:38:06.997871Z",
     "shell.execute_reply": "2022-07-05T15:38:06.996253Z"
    },
    "papermill": {
     "duration": 0.044764,
     "end_time": "2022-07-05T15:38:07.001224",
     "exception": false,
     "start_time": "2022-07-05T15:38:06.956460",
     "status": "completed"
    },
    "tags": []
   },
   "outputs": [
    {
     "name": "stdout",
     "output_type": "stream",
     "text": [
      "Optimization terminated successfully.\n",
      "         Current function value: 0.421044\n",
      "         Iterations 9\n"
     ]
    }
   ],
   "source": [
    "#logit_mod = sm.Logit(y_train, x_train_sm\n",
    "                     \n",
    "mnlogit_mod = sm.MNLogit(y_train, x_train_sm)\n",
    "mnlogit_fit = mnlogit_mod.fit()"
   ]
  },
  {
   "cell_type": "code",
   "execution_count": 12,
   "id": "74ee0b8c",
   "metadata": {
    "execution": {
     "iopub.execute_input": "2022-07-05T15:38:07.023596Z",
     "iopub.status.busy": "2022-07-05T15:38:07.022405Z",
     "iopub.status.idle": "2022-07-05T15:38:07.081300Z",
     "shell.execute_reply": "2022-07-05T15:38:07.079988Z"
    },
    "papermill": {
     "duration": 0.074473,
     "end_time": "2022-07-05T15:38:07.085491",
     "exception": false,
     "start_time": "2022-07-05T15:38:07.011018",
     "status": "completed"
    },
    "tags": []
   },
   "outputs": [
    {
     "name": "stdout",
     "output_type": "stream",
     "text": [
      "                          MNLogit Regression Results                          \n",
      "==============================================================================\n",
      "Dep. Variable:               Category   No. Observations:                   28\n",
      "Model:                        MNLogit   Df Residuals:                       18\n",
      "Method:                           MLE   Df Model:                            8\n",
      "Date:                Tue, 05 Jul 2022   Pseudo R-squ.:                  0.5312\n",
      "Time:                        15:38:07   Log-Likelihood:                -11.789\n",
      "converged:                       True   LL-Null:                       -25.150\n",
      "Covariance Type:            nonrobust   LLR p-value:                 0.0007898\n",
      "===========================================================================================\n",
      "             Category=2       coef    std err          z      P>|z|      [0.025      0.975]\n",
      "-------------------------------------------------------------------------------------------\n",
      "const                      -2.6176      1.283     -2.040      0.041      -5.132      -0.103\n",
      "DER                         0.2114      0.464      0.455      0.649      -0.699       1.122\n",
      "Operating Profit Margin    -0.0049      0.004     -1.182      0.237      -0.013       0.003\n",
      "Return On Asset            -0.9365      3.768     -0.249      0.804      -8.321       6.448\n",
      "Sales Growth                7.1813      2.758      2.603      0.009       1.775      12.588\n",
      "-------------------------------------------------------------------------------------------\n",
      "             Category=4       coef    std err          z      P>|z|      [0.025      0.975]\n",
      "-------------------------------------------------------------------------------------------\n",
      "const                      -2.5046      1.126     -2.225      0.026      -4.711      -0.298\n",
      "DER                        -0.0987      0.082     -1.207      0.227      -0.259       0.062\n",
      "Operating Profit Margin    -0.0026      0.012     -0.229      0.819      -0.025       0.020\n",
      "Return On Asset             1.0400      4.364      0.238      0.812      -7.513       9.592\n",
      "Sales Growth               -2.3178      6.058     -0.383      0.702     -14.192       9.556\n",
      "===========================================================================================\n"
     ]
    }
   ],
   "source": [
    "print (mnlogit_fit.summary())"
   ]
  },
  {
   "cell_type": "code",
   "execution_count": 13,
   "id": "b83416d2",
   "metadata": {
    "execution": {
     "iopub.execute_input": "2022-07-05T15:38:07.108187Z",
     "iopub.status.busy": "2022-07-05T15:38:07.107592Z",
     "iopub.status.idle": "2022-07-05T15:38:07.147289Z",
     "shell.execute_reply": "2022-07-05T15:38:07.146297Z"
    },
    "papermill": {
     "duration": 0.054059,
     "end_time": "2022-07-05T15:38:07.149849",
     "exception": false,
     "start_time": "2022-07-05T15:38:07.095790",
     "status": "completed"
    },
    "tags": []
   },
   "outputs": [
    {
     "data": {
      "text/plain": [
       "LogisticRegression(multi_class='ovr')"
      ]
     },
     "execution_count": 13,
     "metadata": {},
     "output_type": "execute_result"
    }
   ],
   "source": [
    "model = LogisticRegression(multi_class='ovr')\n",
    "model.fit(x_train, y_train)"
   ]
  },
  {
   "cell_type": "code",
   "execution_count": 14,
   "id": "efcd6ba4",
   "metadata": {
    "execution": {
     "iopub.execute_input": "2022-07-05T15:38:07.162232Z",
     "iopub.status.busy": "2022-07-05T15:38:07.161525Z",
     "iopub.status.idle": "2022-07-05T15:38:07.170342Z",
     "shell.execute_reply": "2022-07-05T15:38:07.169294Z"
    },
    "papermill": {
     "duration": 0.017562,
     "end_time": "2022-07-05T15:38:07.172480",
     "exception": false,
     "start_time": "2022-07-05T15:38:07.154918",
     "status": "completed"
    },
    "tags": []
   },
   "outputs": [
    {
     "data": {
      "text/plain": [
       "array([[0.65992847, 0.30569409, 0.03437744],\n",
       "       [0.67219876, 0.28134909, 0.04645215],\n",
       "       [0.12445441, 0.86143634, 0.01410925],\n",
       "       [0.88941515, 0.10944442, 0.00114043],\n",
       "       [0.6730037 , 0.28311317, 0.04388313]])"
      ]
     },
     "execution_count": 14,
     "metadata": {},
     "output_type": "execute_result"
    }
   ],
   "source": [
    "model.predict_proba(x_test)[0:5]"
   ]
  },
  {
   "cell_type": "code",
   "execution_count": 15,
   "id": "290ea1ea",
   "metadata": {
    "execution": {
     "iopub.execute_input": "2022-07-05T15:38:07.184741Z",
     "iopub.status.busy": "2022-07-05T15:38:07.184037Z",
     "iopub.status.idle": "2022-07-05T15:38:07.192140Z",
     "shell.execute_reply": "2022-07-05T15:38:07.191289Z"
    },
    "papermill": {
     "duration": 0.016499,
     "end_time": "2022-07-05T15:38:07.194151",
     "exception": false,
     "start_time": "2022-07-05T15:38:07.177652",
     "status": "completed"
    },
    "tags": []
   },
   "outputs": [
    {
     "data": {
      "text/plain": [
       "array([1, 1, 2, 1, 1, 1, 1, 1])"
      ]
     },
     "execution_count": 15,
     "metadata": {},
     "output_type": "execute_result"
    }
   ],
   "source": [
    "predictions = model.predict(x_test)\n",
    "predictions"
   ]
  },
  {
   "cell_type": "code",
   "execution_count": 16,
   "id": "b1378426",
   "metadata": {
    "execution": {
     "iopub.execute_input": "2022-07-05T15:38:07.206381Z",
     "iopub.status.busy": "2022-07-05T15:38:07.205999Z",
     "iopub.status.idle": "2022-07-05T15:38:07.216905Z",
     "shell.execute_reply": "2022-07-05T15:38:07.215192Z"
    },
    "papermill": {
     "duration": 0.020186,
     "end_time": "2022-07-05T15:38:07.219691",
     "exception": false,
     "start_time": "2022-07-05T15:38:07.199505",
     "status": "completed"
    },
    "tags": []
   },
   "outputs": [
    {
     "name": "stdout",
     "output_type": "stream",
     "text": [
      "              precision    recall  f1-score   support\n",
      "\n",
      "           1       0.57      0.80      0.67         5\n",
      "           2       0.00      0.00      0.00         3\n",
      "\n",
      "    accuracy                           0.50         8\n",
      "   macro avg       0.29      0.40      0.33         8\n",
      "weighted avg       0.36      0.50      0.42         8\n",
      "\n"
     ]
    }
   ],
   "source": [
    "print(classification_report(y_test, predictions))"
   ]
  },
  {
   "cell_type": "code",
   "execution_count": 17,
   "id": "2d83060c",
   "metadata": {
    "execution": {
     "iopub.execute_input": "2022-07-05T15:38:07.233131Z",
     "iopub.status.busy": "2022-07-05T15:38:07.232100Z",
     "iopub.status.idle": "2022-07-05T15:38:07.237480Z",
     "shell.execute_reply": "2022-07-05T15:38:07.236683Z"
    },
    "papermill": {
     "duration": 0.014144,
     "end_time": "2022-07-05T15:38:07.239626",
     "exception": false,
     "start_time": "2022-07-05T15:38:07.225482",
     "status": "completed"
    },
    "tags": []
   },
   "outputs": [
    {
     "name": "stdout",
     "output_type": "stream",
     "text": [
      "0.5\n"
     ]
    }
   ],
   "source": [
    "print(accuracy_score(y_test, predictions))"
   ]
  }
 ],
 "metadata": {
  "kernelspec": {
   "display_name": "Python 3",
   "language": "python",
   "name": "python3"
  },
  "language_info": {
   "codemirror_mode": {
    "name": "ipython",
    "version": 3
   },
   "file_extension": ".py",
   "mimetype": "text/x-python",
   "name": "python",
   "nbconvert_exporter": "python",
   "pygments_lexer": "ipython3",
   "version": "3.7.12"
  },
  "papermill": {
   "default_parameters": {},
   "duration": 13.182073,
   "end_time": "2022-07-05T15:38:07.966675",
   "environment_variables": {},
   "exception": null,
   "input_path": "__notebook__.ipynb",
   "output_path": "__notebook__.ipynb",
   "parameters": {},
   "start_time": "2022-07-05T15:37:54.784602",
   "version": "2.3.4"
  }
 },
 "nbformat": 4,
 "nbformat_minor": 5
}
