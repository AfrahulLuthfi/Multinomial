{
 "cells": [
  {
   "cell_type": "code",
   "execution_count": 1,
   "id": "9112c2f1",
   "metadata": {
    "_cell_guid": "b1076dfc-b9ad-4769-8c92-a6c4dae69d19",
    "_uuid": "8f2839f25d086af736a60e9eeb907d3b93b6e0e5",
    "execution": {
     "iopub.execute_input": "2022-07-05T15:23:39.110192Z",
     "iopub.status.busy": "2022-07-05T15:23:39.109362Z",
     "iopub.status.idle": "2022-07-05T15:23:39.131073Z",
     "shell.execute_reply": "2022-07-05T15:23:39.130211Z"
    },
    "papermill": {
     "duration": 0.030895,
     "end_time": "2022-07-05T15:23:39.133372",
     "exception": false,
     "start_time": "2022-07-05T15:23:39.102477",
     "status": "completed"
    },
    "tags": []
   },
   "outputs": [
    {
     "name": "stdout",
     "output_type": "stream",
     "text": [
      "/kaggle/input/pertambanganuas/pertambanganUAS.csv\n"
     ]
    }
   ],
   "source": [
    "# This Python 3 environment comes with many helpful analytics libraries installed\n",
    "# It is defined by the kaggle/python Docker image: https://github.com/kaggle/docker-python\n",
    "# For example, here's several helpful packages to load\n",
    "\n",
    "import numpy as np # linear algebra\n",
    "import pandas as pd # data processing, CSV file I/O (e.g. pd.read_csv)\n",
    "\n",
    "# Input data files are available in the read-only \"../input/\" directory\n",
    "# For example, running this (by clicking run or pressing Shift+Enter) will list all files under the input directory\n",
    "\n",
    "import os\n",
    "for dirname, _, filenames in os.walk('/kaggle/input'):\n",
    "    for filename in filenames:\n",
    "        print(os.path.join(dirname, filename))\n",
    "\n",
    "# You can write up to 20GB to the current directory (/kaggle/working/) that gets preserved as output when you create a version using \"Save & Run All\" \n",
    "# You can also write temporary files to /kaggle/temp/, but they won't be saved outside of the current session"
   ]
  },
  {
   "cell_type": "code",
   "execution_count": 2,
   "id": "9e5aab53",
   "metadata": {
    "execution": {
     "iopub.execute_input": "2022-07-05T15:23:39.144118Z",
     "iopub.status.busy": "2022-07-05T15:23:39.143052Z",
     "iopub.status.idle": "2022-07-05T15:23:40.517444Z",
     "shell.execute_reply": "2022-07-05T15:23:40.516383Z"
    },
    "papermill": {
     "duration": 1.382278,
     "end_time": "2022-07-05T15:23:40.519989",
     "exception": false,
     "start_time": "2022-07-05T15:23:39.137711",
     "status": "completed"
    },
    "tags": []
   },
   "outputs": [],
   "source": [
    "import pandas as pd\n",
    "import seaborn as sns\n",
    "from sklearn.metrics import classification_report\n",
    "from sklearn.metrics import accuracy_score\n",
    "from sklearn.model_selection import train_test_split\n",
    "from sklearn.linear_model import LogisticRegression"
   ]
  },
  {
   "cell_type": "code",
   "execution_count": 3,
   "id": "ef205290",
   "metadata": {
    "execution": {
     "iopub.execute_input": "2022-07-05T15:23:40.530642Z",
     "iopub.status.busy": "2022-07-05T15:23:40.529964Z",
     "iopub.status.idle": "2022-07-05T15:23:40.562537Z",
     "shell.execute_reply": "2022-07-05T15:23:40.561321Z"
    },
    "papermill": {
     "duration": 0.040476,
     "end_time": "2022-07-05T15:23:40.564880",
     "exception": false,
     "start_time": "2022-07-05T15:23:40.524404",
     "status": "completed"
    },
    "tags": []
   },
   "outputs": [
    {
     "data": {
      "text/html": [
       "<div>\n",
       "<style scoped>\n",
       "    .dataframe tbody tr th:only-of-type {\n",
       "        vertical-align: middle;\n",
       "    }\n",
       "\n",
       "    .dataframe tbody tr th {\n",
       "        vertical-align: top;\n",
       "    }\n",
       "\n",
       "    .dataframe thead th {\n",
       "        text-align: right;\n",
       "    }\n",
       "</style>\n",
       "<table border=\"1\" class=\"dataframe\">\n",
       "  <thead>\n",
       "    <tr style=\"text-align: right;\">\n",
       "      <th></th>\n",
       "      <th>Emitten</th>\n",
       "      <th>DER</th>\n",
       "      <th>Operating Profit Margin</th>\n",
       "      <th>Return On Asset</th>\n",
       "      <th>Sales Growth</th>\n",
       "      <th>Category</th>\n",
       "    </tr>\n",
       "  </thead>\n",
       "  <tbody>\n",
       "    <tr>\n",
       "      <th>0</th>\n",
       "      <td>ADRO</td>\n",
       "      <td>0.65</td>\n",
       "      <td>6.663</td>\n",
       "      <td>0.06000</td>\n",
       "      <td>0.575136</td>\n",
       "      <td>2</td>\n",
       "    </tr>\n",
       "    <tr>\n",
       "      <th>1</th>\n",
       "      <td>APEX</td>\n",
       "      <td>1.69</td>\n",
       "      <td>42.550</td>\n",
       "      <td>0.18000</td>\n",
       "      <td>0.189673</td>\n",
       "      <td>1</td>\n",
       "    </tr>\n",
       "    <tr>\n",
       "      <th>2</th>\n",
       "      <td>ARII</td>\n",
       "      <td>8.94</td>\n",
       "      <td>15.080</td>\n",
       "      <td>-0.03865</td>\n",
       "      <td>-0.328694</td>\n",
       "      <td>1</td>\n",
       "    </tr>\n",
       "    <tr>\n",
       "      <th>3</th>\n",
       "      <td>ARTI</td>\n",
       "      <td>-5.43</td>\n",
       "      <td>-30.070</td>\n",
       "      <td>-1.19000</td>\n",
       "      <td>0.000000</td>\n",
       "      <td>1</td>\n",
       "    </tr>\n",
       "    <tr>\n",
       "      <th>4</th>\n",
       "      <td>BIPI</td>\n",
       "      <td>1.42</td>\n",
       "      <td>265.900</td>\n",
       "      <td>0.01000</td>\n",
       "      <td>0.107550</td>\n",
       "      <td>1</td>\n",
       "    </tr>\n",
       "  </tbody>\n",
       "</table>\n",
       "</div>"
      ],
      "text/plain": [
       "  Emitten   DER  Operating Profit Margin  Return On Asset  Sales Growth  \\\n",
       "0    ADRO  0.65                    6.663          0.06000      0.575136   \n",
       "1    APEX  1.69                   42.550          0.18000      0.189673   \n",
       "2    ARII  8.94                   15.080         -0.03865     -0.328694   \n",
       "3    ARTI -5.43                  -30.070         -1.19000      0.000000   \n",
       "4    BIPI  1.42                  265.900          0.01000      0.107550   \n",
       "\n",
       "   Category  \n",
       "0         2  \n",
       "1         1  \n",
       "2         1  \n",
       "3         1  \n",
       "4         1  "
      ]
     },
     "execution_count": 3,
     "metadata": {},
     "output_type": "execute_result"
    }
   ],
   "source": [
    "df = pd.read_csv('../input/pertambanganuas/pertambanganUAS.csv')\n",
    "df.head()"
   ]
  },
  {
   "cell_type": "code",
   "execution_count": 4,
   "id": "1eb7622c",
   "metadata": {
    "execution": {
     "iopub.execute_input": "2022-07-05T15:23:40.575326Z",
     "iopub.status.busy": "2022-07-05T15:23:40.574922Z",
     "iopub.status.idle": "2022-07-05T15:23:40.582578Z",
     "shell.execute_reply": "2022-07-05T15:23:40.581439Z"
    },
    "papermill": {
     "duration": 0.015318,
     "end_time": "2022-07-05T15:23:40.584710",
     "exception": false,
     "start_time": "2022-07-05T15:23:40.569392",
     "status": "completed"
    },
    "tags": []
   },
   "outputs": [
    {
     "data": {
      "text/plain": [
       "array([['ADRO', 0.65, 6.663, 0.06, 0.5751356494803226, 2],\n",
       "       ['APEX', 1.69, 42.55, 0.18, 0.1896728016359918, 1],\n",
       "       ['ARII', 8.94, 15.08, -0.038650007, -0.3286944891167619, 1],\n",
       "       ['ARTI', -5.43, -30.07, -1.19, 0.0, 1],\n",
       "       ['BIPI', 1.42, 265.9, 0.01, 0.1075499379302562, 1],\n",
       "       ['BOSS', -26.25, -109.0, -0.3, -0.3717766830120759, 4],\n",
       "       ['BSSR', 0.58, 1.485, 0.41, 1.085816257572466, 2],\n",
       "       ['BUMI', 12.22, 1.02, 0.02, 0.709, 2],\n",
       "       ['BYAN', 0.47, 9.74, 0.46, 1.044436543849853, 2],\n",
       "       ['DEWA', 1.11, 24.64, -0.1202273, -0.1202737873824522, 1],\n",
       "       ['DOID', 4.61, -230.61, -0.02, -0.3176640825935687, 1],\n",
       "       ['DSSA', 0.65, 1.946, -0.02, 0.4362863409410862, 2],\n",
       "       ['ELSA', 0.9, 37.56, 0.01, 0.0530116365523502, 1],\n",
       "       ['ENRG', 1.5, 257.32, 0.03, 0.2499799927358241, 1],\n",
       "       ['FIRE', 0.47, 18.66, 0.03, 0.785, 2],\n",
       "       ['GEMS', 1.15, 2.862, 0.31, 0.4941954569864614, 2],\n",
       "       ['GTBO', 0.32, -9.54, -0.02, 0.0, 1],\n",
       "       ['HRUM', 0.31, 744.89, 0.1, 1.130136422103802, 2],\n",
       "       ['INDY', 3.32, -120.22, -0.02, 0.477538643142828, 2],\n",
       "       ['ITMG', 0.45, 3.887, 0.24, 1.185336, 2],\n",
       "       ['KKGI', 0.31, 131.79, 0.08, 0.8297748608457257, 2],\n",
       "       ['MBAP', 0.52, 699.71, 0.29, 0.5399066632870626, 1],\n",
       "       ['MEDC', 3.28, 1.006, 0.01, -0.2398798296033278, 1],\n",
       "       ['MITI', 0.28, 3.29, 0.0, 0.0, 4],\n",
       "       ['MTFN', -20.54, -17.39, -0.08, -0.1109112276428414, 1],\n",
       "       ['MYON', 0.15, 304.46, 0.18, -0.0738447703375761, 1],\n",
       "       ['PKPK', 0.77, -2.54, -0.06, 0.0, 2],\n",
       "       ['PTBA', 0.53, 4.853, 0.2, 0.6889549045113035, 1],\n",
       "       ['PTRO', 1.2, 208.16, 0.06, 0.2202865965340722, 1],\n",
       "       ['RUIS', 1.84, 14.21, 0.01, 0.0125241905977853, 2],\n",
       "       ['SMMT', 0.4, 128.07, 0.17, 1.426755676840759, 1],\n",
       "       ['SMRU', 1.9, -16.75, -0.02, 0.0, 1],\n",
       "       ['SURE', 0.85, -50.13, -0.05, 0.1506294659163516, 1],\n",
       "       ['TOBA', 1.48, 643.74, 0.06, -0.3683789893515805, 1],\n",
       "       ['TRAM', 0.74, -39.57, 0.0, 0.0, 2],\n",
       "       ['WOWS', 0.27, 0.29, -0.01, 0.0, 2]], dtype=object)"
      ]
     },
     "execution_count": 4,
     "metadata": {},
     "output_type": "execute_result"
    }
   ],
   "source": [
    "np.asarray(df)"
   ]
  },
  {
   "cell_type": "code",
   "execution_count": 5,
   "id": "669dd612",
   "metadata": {
    "execution": {
     "iopub.execute_input": "2022-07-05T15:23:40.595186Z",
     "iopub.status.busy": "2022-07-05T15:23:40.594549Z",
     "iopub.status.idle": "2022-07-05T15:23:41.321757Z",
     "shell.execute_reply": "2022-07-05T15:23:41.320480Z"
    },
    "papermill": {
     "duration": 0.735563,
     "end_time": "2022-07-05T15:23:41.324537",
     "exception": false,
     "start_time": "2022-07-05T15:23:40.588974",
     "status": "completed"
    },
    "tags": []
   },
   "outputs": [],
   "source": [
    "import statsmodels.api as sm"
   ]
  },
  {
   "cell_type": "code",
   "execution_count": 6,
   "id": "85d9402a",
   "metadata": {
    "execution": {
     "iopub.execute_input": "2022-07-05T15:23:41.335898Z",
     "iopub.status.busy": "2022-07-05T15:23:41.335243Z",
     "iopub.status.idle": "2022-07-05T15:23:41.348857Z",
     "shell.execute_reply": "2022-07-05T15:23:41.347389Z"
    },
    "papermill": {
     "duration": 0.022613,
     "end_time": "2022-07-05T15:23:41.351737",
     "exception": false,
     "start_time": "2022-07-05T15:23:41.329124",
     "status": "completed"
    },
    "tags": []
   },
   "outputs": [],
   "source": [
    "df.drop(['Emitten'], axis=1, inplace=True)"
   ]
  },
  {
   "cell_type": "code",
   "execution_count": 7,
   "id": "7db46ec0",
   "metadata": {
    "execution": {
     "iopub.execute_input": "2022-07-05T15:23:41.362674Z",
     "iopub.status.busy": "2022-07-05T15:23:41.361991Z",
     "iopub.status.idle": "2022-07-05T15:23:41.374640Z",
     "shell.execute_reply": "2022-07-05T15:23:41.373464Z"
    },
    "papermill": {
     "duration": 0.020796,
     "end_time": "2022-07-05T15:23:41.377065",
     "exception": false,
     "start_time": "2022-07-05T15:23:41.356269",
     "status": "completed"
    },
    "tags": []
   },
   "outputs": [
    {
     "data": {
      "text/html": [
       "<div>\n",
       "<style scoped>\n",
       "    .dataframe tbody tr th:only-of-type {\n",
       "        vertical-align: middle;\n",
       "    }\n",
       "\n",
       "    .dataframe tbody tr th {\n",
       "        vertical-align: top;\n",
       "    }\n",
       "\n",
       "    .dataframe thead th {\n",
       "        text-align: right;\n",
       "    }\n",
       "</style>\n",
       "<table border=\"1\" class=\"dataframe\">\n",
       "  <thead>\n",
       "    <tr style=\"text-align: right;\">\n",
       "      <th></th>\n",
       "      <th>DER</th>\n",
       "      <th>Operating Profit Margin</th>\n",
       "      <th>Return On Asset</th>\n",
       "      <th>Sales Growth</th>\n",
       "    </tr>\n",
       "  </thead>\n",
       "  <tbody>\n",
       "    <tr>\n",
       "      <th>0</th>\n",
       "      <td>0.65</td>\n",
       "      <td>6.663</td>\n",
       "      <td>0.06000</td>\n",
       "      <td>0.575136</td>\n",
       "    </tr>\n",
       "    <tr>\n",
       "      <th>1</th>\n",
       "      <td>1.69</td>\n",
       "      <td>42.550</td>\n",
       "      <td>0.18000</td>\n",
       "      <td>0.189673</td>\n",
       "    </tr>\n",
       "    <tr>\n",
       "      <th>2</th>\n",
       "      <td>8.94</td>\n",
       "      <td>15.080</td>\n",
       "      <td>-0.03865</td>\n",
       "      <td>-0.328694</td>\n",
       "    </tr>\n",
       "    <tr>\n",
       "      <th>3</th>\n",
       "      <td>-5.43</td>\n",
       "      <td>-30.070</td>\n",
       "      <td>-1.19000</td>\n",
       "      <td>0.000000</td>\n",
       "    </tr>\n",
       "    <tr>\n",
       "      <th>4</th>\n",
       "      <td>1.42</td>\n",
       "      <td>265.900</td>\n",
       "      <td>0.01000</td>\n",
       "      <td>0.107550</td>\n",
       "    </tr>\n",
       "  </tbody>\n",
       "</table>\n",
       "</div>"
      ],
      "text/plain": [
       "    DER  Operating Profit Margin  Return On Asset  Sales Growth\n",
       "0  0.65                    6.663          0.06000      0.575136\n",
       "1  1.69                   42.550          0.18000      0.189673\n",
       "2  8.94                   15.080         -0.03865     -0.328694\n",
       "3 -5.43                  -30.070         -1.19000      0.000000\n",
       "4  1.42                  265.900          0.01000      0.107550"
      ]
     },
     "execution_count": 7,
     "metadata": {},
     "output_type": "execute_result"
    }
   ],
   "source": [
    "x = df.drop('Category', axis=1)\n",
    "x.head()"
   ]
  },
  {
   "cell_type": "code",
   "execution_count": 8,
   "id": "aca3f80a",
   "metadata": {
    "execution": {
     "iopub.execute_input": "2022-07-05T15:23:41.388702Z",
     "iopub.status.busy": "2022-07-05T15:23:41.387775Z",
     "iopub.status.idle": "2022-07-05T15:23:41.398291Z",
     "shell.execute_reply": "2022-07-05T15:23:41.396859Z"
    },
    "papermill": {
     "duration": 0.019013,
     "end_time": "2022-07-05T15:23:41.400873",
     "exception": false,
     "start_time": "2022-07-05T15:23:41.381860",
     "status": "completed"
    },
    "tags": []
   },
   "outputs": [
    {
     "data": {
      "text/plain": [
       "0    2\n",
       "1    1\n",
       "2    1\n",
       "3    1\n",
       "4    1\n",
       "Name: Category, dtype: int64"
      ]
     },
     "execution_count": 8,
     "metadata": {},
     "output_type": "execute_result"
    }
   ],
   "source": [
    "y = df['Category']\n",
    "y.head()"
   ]
  },
  {
   "cell_type": "code",
   "execution_count": 9,
   "id": "f9c05b00",
   "metadata": {
    "execution": {
     "iopub.execute_input": "2022-07-05T15:23:41.412696Z",
     "iopub.status.busy": "2022-07-05T15:23:41.411820Z",
     "iopub.status.idle": "2022-07-05T15:23:41.418364Z",
     "shell.execute_reply": "2022-07-05T15:23:41.417501Z"
    },
    "papermill": {
     "duration": 0.015063,
     "end_time": "2022-07-05T15:23:41.420699",
     "exception": false,
     "start_time": "2022-07-05T15:23:41.405636",
     "status": "completed"
    },
    "tags": []
   },
   "outputs": [],
   "source": [
    "x_train, x_test, y_train, y_test = train_test_split(x,y, test_size=0.2)"
   ]
  },
  {
   "cell_type": "code",
   "execution_count": 10,
   "id": "199240d2",
   "metadata": {
    "execution": {
     "iopub.execute_input": "2022-07-05T15:23:41.432899Z",
     "iopub.status.busy": "2022-07-05T15:23:41.431776Z",
     "iopub.status.idle": "2022-07-05T15:23:41.453003Z",
     "shell.execute_reply": "2022-07-05T15:23:41.451869Z"
    },
    "papermill": {
     "duration": 0.029895,
     "end_time": "2022-07-05T15:23:41.455537",
     "exception": false,
     "start_time": "2022-07-05T15:23:41.425642",
     "status": "completed"
    },
    "tags": []
   },
   "outputs": [
    {
     "data": {
      "text/html": [
       "<div>\n",
       "<style scoped>\n",
       "    .dataframe tbody tr th:only-of-type {\n",
       "        vertical-align: middle;\n",
       "    }\n",
       "\n",
       "    .dataframe tbody tr th {\n",
       "        vertical-align: top;\n",
       "    }\n",
       "\n",
       "    .dataframe thead th {\n",
       "        text-align: right;\n",
       "    }\n",
       "</style>\n",
       "<table border=\"1\" class=\"dataframe\">\n",
       "  <thead>\n",
       "    <tr style=\"text-align: right;\">\n",
       "      <th></th>\n",
       "      <th>const</th>\n",
       "      <th>DER</th>\n",
       "      <th>Operating Profit Margin</th>\n",
       "      <th>Return On Asset</th>\n",
       "      <th>Sales Growth</th>\n",
       "    </tr>\n",
       "  </thead>\n",
       "  <tbody>\n",
       "    <tr>\n",
       "      <th>33</th>\n",
       "      <td>1.0</td>\n",
       "      <td>1.48</td>\n",
       "      <td>643.740</td>\n",
       "      <td>0.060000</td>\n",
       "      <td>-0.368379</td>\n",
       "    </tr>\n",
       "    <tr>\n",
       "      <th>9</th>\n",
       "      <td>1.0</td>\n",
       "      <td>1.11</td>\n",
       "      <td>24.640</td>\n",
       "      <td>-0.120227</td>\n",
       "      <td>-0.120274</td>\n",
       "    </tr>\n",
       "    <tr>\n",
       "      <th>8</th>\n",
       "      <td>1.0</td>\n",
       "      <td>0.47</td>\n",
       "      <td>9.740</td>\n",
       "      <td>0.460000</td>\n",
       "      <td>1.044437</td>\n",
       "    </tr>\n",
       "    <tr>\n",
       "      <th>20</th>\n",
       "      <td>1.0</td>\n",
       "      <td>0.31</td>\n",
       "      <td>131.790</td>\n",
       "      <td>0.080000</td>\n",
       "      <td>0.829775</td>\n",
       "    </tr>\n",
       "    <tr>\n",
       "      <th>19</th>\n",
       "      <td>1.0</td>\n",
       "      <td>0.45</td>\n",
       "      <td>3.887</td>\n",
       "      <td>0.240000</td>\n",
       "      <td>1.185336</td>\n",
       "    </tr>\n",
       "    <tr>\n",
       "      <th>16</th>\n",
       "      <td>1.0</td>\n",
       "      <td>0.32</td>\n",
       "      <td>-9.540</td>\n",
       "      <td>-0.020000</td>\n",
       "      <td>0.000000</td>\n",
       "    </tr>\n",
       "    <tr>\n",
       "      <th>24</th>\n",
       "      <td>1.0</td>\n",
       "      <td>-20.54</td>\n",
       "      <td>-17.390</td>\n",
       "      <td>-0.080000</td>\n",
       "      <td>-0.110911</td>\n",
       "    </tr>\n",
       "    <tr>\n",
       "      <th>23</th>\n",
       "      <td>1.0</td>\n",
       "      <td>0.28</td>\n",
       "      <td>3.290</td>\n",
       "      <td>0.000000</td>\n",
       "      <td>0.000000</td>\n",
       "    </tr>\n",
       "    <tr>\n",
       "      <th>5</th>\n",
       "      <td>1.0</td>\n",
       "      <td>-26.25</td>\n",
       "      <td>-109.000</td>\n",
       "      <td>-0.300000</td>\n",
       "      <td>-0.371777</td>\n",
       "    </tr>\n",
       "    <tr>\n",
       "      <th>27</th>\n",
       "      <td>1.0</td>\n",
       "      <td>0.53</td>\n",
       "      <td>4.853</td>\n",
       "      <td>0.200000</td>\n",
       "      <td>0.688955</td>\n",
       "    </tr>\n",
       "    <tr>\n",
       "      <th>21</th>\n",
       "      <td>1.0</td>\n",
       "      <td>0.52</td>\n",
       "      <td>699.710</td>\n",
       "      <td>0.290000</td>\n",
       "      <td>0.539907</td>\n",
       "    </tr>\n",
       "    <tr>\n",
       "      <th>14</th>\n",
       "      <td>1.0</td>\n",
       "      <td>0.47</td>\n",
       "      <td>18.660</td>\n",
       "      <td>0.030000</td>\n",
       "      <td>0.785000</td>\n",
       "    </tr>\n",
       "    <tr>\n",
       "      <th>30</th>\n",
       "      <td>1.0</td>\n",
       "      <td>0.40</td>\n",
       "      <td>128.070</td>\n",
       "      <td>0.170000</td>\n",
       "      <td>1.426756</td>\n",
       "    </tr>\n",
       "    <tr>\n",
       "      <th>31</th>\n",
       "      <td>1.0</td>\n",
       "      <td>1.90</td>\n",
       "      <td>-16.750</td>\n",
       "      <td>-0.020000</td>\n",
       "      <td>0.000000</td>\n",
       "    </tr>\n",
       "    <tr>\n",
       "      <th>35</th>\n",
       "      <td>1.0</td>\n",
       "      <td>0.27</td>\n",
       "      <td>0.290</td>\n",
       "      <td>-0.010000</td>\n",
       "      <td>0.000000</td>\n",
       "    </tr>\n",
       "    <tr>\n",
       "      <th>17</th>\n",
       "      <td>1.0</td>\n",
       "      <td>0.31</td>\n",
       "      <td>744.890</td>\n",
       "      <td>0.100000</td>\n",
       "      <td>1.130136</td>\n",
       "    </tr>\n",
       "    <tr>\n",
       "      <th>7</th>\n",
       "      <td>1.0</td>\n",
       "      <td>12.22</td>\n",
       "      <td>1.020</td>\n",
       "      <td>0.020000</td>\n",
       "      <td>0.709000</td>\n",
       "    </tr>\n",
       "    <tr>\n",
       "      <th>12</th>\n",
       "      <td>1.0</td>\n",
       "      <td>0.90</td>\n",
       "      <td>37.560</td>\n",
       "      <td>0.010000</td>\n",
       "      <td>0.053012</td>\n",
       "    </tr>\n",
       "    <tr>\n",
       "      <th>22</th>\n",
       "      <td>1.0</td>\n",
       "      <td>3.28</td>\n",
       "      <td>1.006</td>\n",
       "      <td>0.010000</td>\n",
       "      <td>-0.239880</td>\n",
       "    </tr>\n",
       "    <tr>\n",
       "      <th>28</th>\n",
       "      <td>1.0</td>\n",
       "      <td>1.20</td>\n",
       "      <td>208.160</td>\n",
       "      <td>0.060000</td>\n",
       "      <td>0.220287</td>\n",
       "    </tr>\n",
       "    <tr>\n",
       "      <th>34</th>\n",
       "      <td>1.0</td>\n",
       "      <td>0.74</td>\n",
       "      <td>-39.570</td>\n",
       "      <td>0.000000</td>\n",
       "      <td>0.000000</td>\n",
       "    </tr>\n",
       "    <tr>\n",
       "      <th>32</th>\n",
       "      <td>1.0</td>\n",
       "      <td>0.85</td>\n",
       "      <td>-50.130</td>\n",
       "      <td>-0.050000</td>\n",
       "      <td>0.150629</td>\n",
       "    </tr>\n",
       "    <tr>\n",
       "      <th>6</th>\n",
       "      <td>1.0</td>\n",
       "      <td>0.58</td>\n",
       "      <td>1.485</td>\n",
       "      <td>0.410000</td>\n",
       "      <td>1.085816</td>\n",
       "    </tr>\n",
       "    <tr>\n",
       "      <th>11</th>\n",
       "      <td>1.0</td>\n",
       "      <td>0.65</td>\n",
       "      <td>1.946</td>\n",
       "      <td>-0.020000</td>\n",
       "      <td>0.436286</td>\n",
       "    </tr>\n",
       "    <tr>\n",
       "      <th>25</th>\n",
       "      <td>1.0</td>\n",
       "      <td>0.15</td>\n",
       "      <td>304.460</td>\n",
       "      <td>0.180000</td>\n",
       "      <td>-0.073845</td>\n",
       "    </tr>\n",
       "    <tr>\n",
       "      <th>2</th>\n",
       "      <td>1.0</td>\n",
       "      <td>8.94</td>\n",
       "      <td>15.080</td>\n",
       "      <td>-0.038650</td>\n",
       "      <td>-0.328694</td>\n",
       "    </tr>\n",
       "    <tr>\n",
       "      <th>4</th>\n",
       "      <td>1.0</td>\n",
       "      <td>1.42</td>\n",
       "      <td>265.900</td>\n",
       "      <td>0.010000</td>\n",
       "      <td>0.107550</td>\n",
       "    </tr>\n",
       "    <tr>\n",
       "      <th>29</th>\n",
       "      <td>1.0</td>\n",
       "      <td>1.84</td>\n",
       "      <td>14.210</td>\n",
       "      <td>0.010000</td>\n",
       "      <td>0.012524</td>\n",
       "    </tr>\n",
       "  </tbody>\n",
       "</table>\n",
       "</div>"
      ],
      "text/plain": [
       "    const    DER  Operating Profit Margin  Return On Asset  Sales Growth\n",
       "33    1.0   1.48                  643.740         0.060000     -0.368379\n",
       "9     1.0   1.11                   24.640        -0.120227     -0.120274\n",
       "8     1.0   0.47                    9.740         0.460000      1.044437\n",
       "20    1.0   0.31                  131.790         0.080000      0.829775\n",
       "19    1.0   0.45                    3.887         0.240000      1.185336\n",
       "16    1.0   0.32                   -9.540        -0.020000      0.000000\n",
       "24    1.0 -20.54                  -17.390        -0.080000     -0.110911\n",
       "23    1.0   0.28                    3.290         0.000000      0.000000\n",
       "5     1.0 -26.25                 -109.000        -0.300000     -0.371777\n",
       "27    1.0   0.53                    4.853         0.200000      0.688955\n",
       "21    1.0   0.52                  699.710         0.290000      0.539907\n",
       "14    1.0   0.47                   18.660         0.030000      0.785000\n",
       "30    1.0   0.40                  128.070         0.170000      1.426756\n",
       "31    1.0   1.90                  -16.750        -0.020000      0.000000\n",
       "35    1.0   0.27                    0.290        -0.010000      0.000000\n",
       "17    1.0   0.31                  744.890         0.100000      1.130136\n",
       "7     1.0  12.22                    1.020         0.020000      0.709000\n",
       "12    1.0   0.90                   37.560         0.010000      0.053012\n",
       "22    1.0   3.28                    1.006         0.010000     -0.239880\n",
       "28    1.0   1.20                  208.160         0.060000      0.220287\n",
       "34    1.0   0.74                  -39.570         0.000000      0.000000\n",
       "32    1.0   0.85                  -50.130        -0.050000      0.150629\n",
       "6     1.0   0.58                    1.485         0.410000      1.085816\n",
       "11    1.0   0.65                    1.946        -0.020000      0.436286\n",
       "25    1.0   0.15                  304.460         0.180000     -0.073845\n",
       "2     1.0   8.94                   15.080        -0.038650     -0.328694\n",
       "4     1.0   1.42                  265.900         0.010000      0.107550\n",
       "29    1.0   1.84                   14.210         0.010000      0.012524"
      ]
     },
     "execution_count": 10,
     "metadata": {},
     "output_type": "execute_result"
    }
   ],
   "source": [
    "x_train_sm = sm.add_constant(x_train)\n",
    "x_train_sm"
   ]
  },
  {
   "cell_type": "code",
   "execution_count": 11,
   "id": "d28bf485",
   "metadata": {
    "execution": {
     "iopub.execute_input": "2022-07-05T15:23:41.467959Z",
     "iopub.status.busy": "2022-07-05T15:23:41.466805Z",
     "iopub.status.idle": "2022-07-05T15:23:41.504322Z",
     "shell.execute_reply": "2022-07-05T15:23:41.502370Z"
    },
    "papermill": {
     "duration": 0.047692,
     "end_time": "2022-07-05T15:23:41.508349",
     "exception": false,
     "start_time": "2022-07-05T15:23:41.460657",
     "status": "completed"
    },
    "tags": []
   },
   "outputs": [
    {
     "name": "stdout",
     "output_type": "stream",
     "text": [
      "Optimization terminated successfully.\n",
      "         Current function value: 0.614347\n",
      "         Iterations 10\n"
     ]
    }
   ],
   "source": [
    "#logit_mod = sm.Logit(y_train, x_train_sm\n",
    "                     \n",
    "mnlogit_mod = sm.MNLogit(y_train, x_train_sm)\n",
    "mnlogit_fit = mnlogit_mod.fit()"
   ]
  },
  {
   "cell_type": "code",
   "execution_count": 12,
   "id": "92bce06e",
   "metadata": {
    "execution": {
     "iopub.execute_input": "2022-07-05T15:23:41.530486Z",
     "iopub.status.busy": "2022-07-05T15:23:41.529811Z",
     "iopub.status.idle": "2022-07-05T15:23:41.587143Z",
     "shell.execute_reply": "2022-07-05T15:23:41.585873Z"
    },
    "papermill": {
     "duration": 0.072453,
     "end_time": "2022-07-05T15:23:41.590744",
     "exception": false,
     "start_time": "2022-07-05T15:23:41.518291",
     "status": "completed"
    },
    "tags": []
   },
   "outputs": [
    {
     "name": "stdout",
     "output_type": "stream",
     "text": [
      "                          MNLogit Regression Results                          \n",
      "==============================================================================\n",
      "Dep. Variable:               Category   No. Observations:                   28\n",
      "Model:                        MNLogit   Df Residuals:                       18\n",
      "Method:                           MLE   Df Model:                            8\n",
      "Date:                Tue, 05 Jul 2022   Pseudo R-squ.:                  0.3097\n",
      "Time:                        15:23:41   Log-Likelihood:                -17.202\n",
      "converged:                       True   LL-Null:                       -24.918\n",
      "Covariance Type:            nonrobust   LLR p-value:                   0.05127\n",
      "===========================================================================================\n",
      "             Category=2       coef    std err          z      P>|z|      [0.025      0.975]\n",
      "-------------------------------------------------------------------------------------------\n",
      "const                      -1.0759      0.655     -1.642      0.101      -2.360       0.208\n",
      "DER                         0.0865      0.152      0.569      0.570      -0.212       0.384\n",
      "Operating Profit Margin    -0.0026      0.002     -1.070      0.285      -0.007       0.002\n",
      "Return On Asset            -2.0767      4.804     -0.432      0.666     -11.493       7.340\n",
      "Sales Growth                2.9799      1.479      2.015      0.044       0.081       5.879\n",
      "-------------------------------------------------------------------------------------------\n",
      "             Category=4       coef    std err          z      P>|z|      [0.025      0.975]\n",
      "-------------------------------------------------------------------------------------------\n",
      "const                      -2.3610      1.147     -2.058      0.040      -4.609      -0.113\n",
      "DER                        -0.0197      0.130     -0.151      0.880      -0.275       0.236\n",
      "Operating Profit Margin    -0.0180      0.036     -0.494      0.622      -0.089       0.053\n",
      "Return On Asset            -4.1057     21.039     -0.195      0.845     -45.341      37.129\n",
      "Sales Growth               -1.6134      6.532     -0.247      0.805     -14.416      11.190\n",
      "===========================================================================================\n"
     ]
    }
   ],
   "source": [
    "print (mnlogit_fit.summary())"
   ]
  },
  {
   "cell_type": "code",
   "execution_count": 13,
   "id": "edf01246",
   "metadata": {
    "execution": {
     "iopub.execute_input": "2022-07-05T15:23:41.614058Z",
     "iopub.status.busy": "2022-07-05T15:23:41.613470Z",
     "iopub.status.idle": "2022-07-05T15:23:41.650730Z",
     "shell.execute_reply": "2022-07-05T15:23:41.649379Z"
    },
    "papermill": {
     "duration": 0.052033,
     "end_time": "2022-07-05T15:23:41.653124",
     "exception": false,
     "start_time": "2022-07-05T15:23:41.601091",
     "status": "completed"
    },
    "tags": []
   },
   "outputs": [
    {
     "name": "stderr",
     "output_type": "stream",
     "text": [
      "/opt/conda/lib/python3.7/site-packages/sklearn/linear_model/_logistic.py:818: ConvergenceWarning: lbfgs failed to converge (status=1):\n",
      "STOP: TOTAL NO. of ITERATIONS REACHED LIMIT.\n",
      "\n",
      "Increase the number of iterations (max_iter) or scale the data as shown in:\n",
      "    https://scikit-learn.org/stable/modules/preprocessing.html\n",
      "Please also refer to the documentation for alternative solver options:\n",
      "    https://scikit-learn.org/stable/modules/linear_model.html#logistic-regression\n",
      "  extra_warning_msg=_LOGISTIC_SOLVER_CONVERGENCE_MSG,\n"
     ]
    },
    {
     "data": {
      "text/plain": [
       "LogisticRegression()"
      ]
     },
     "execution_count": 13,
     "metadata": {},
     "output_type": "execute_result"
    }
   ],
   "source": [
    "model = LogisticRegression(multi_class='auto')\n",
    "model.fit(x_train, y_train)"
   ]
  },
  {
   "cell_type": "code",
   "execution_count": 14,
   "id": "c0694efc",
   "metadata": {
    "execution": {
     "iopub.execute_input": "2022-07-05T15:23:41.666342Z",
     "iopub.status.busy": "2022-07-05T15:23:41.665279Z",
     "iopub.status.idle": "2022-07-05T15:23:41.674773Z",
     "shell.execute_reply": "2022-07-05T15:23:41.673906Z"
    },
    "papermill": {
     "duration": 0.018707,
     "end_time": "2022-07-05T15:23:41.677211",
     "exception": false,
     "start_time": "2022-07-05T15:23:41.658504",
     "status": "completed"
    },
    "tags": []
   },
   "outputs": [
    {
     "data": {
      "text/plain": [
       "array([[0.632638  , 0.30904116, 0.05832084],\n",
       "       [0.64758379, 0.18011391, 0.17230229],\n",
       "       [0.58493695, 0.39700353, 0.01805953],\n",
       "       [0.42019718, 0.53880353, 0.0409993 ],\n",
       "       [0.04751143, 0.02955433, 0.92293424]])"
      ]
     },
     "execution_count": 14,
     "metadata": {},
     "output_type": "execute_result"
    }
   ],
   "source": [
    "model.predict_proba(x_test)[0:5]"
   ]
  },
  {
   "cell_type": "code",
   "execution_count": 15,
   "id": "9cd82c90",
   "metadata": {
    "execution": {
     "iopub.execute_input": "2022-07-05T15:23:41.690526Z",
     "iopub.status.busy": "2022-07-05T15:23:41.689870Z",
     "iopub.status.idle": "2022-07-05T15:23:41.697165Z",
     "shell.execute_reply": "2022-07-05T15:23:41.696307Z"
    },
    "papermill": {
     "duration": 0.016074,
     "end_time": "2022-07-05T15:23:41.698994",
     "exception": false,
     "start_time": "2022-07-05T15:23:41.682920",
     "status": "completed"
    },
    "tags": []
   },
   "outputs": [
    {
     "data": {
      "text/plain": [
       "array([1, 1, 1, 2, 4, 2, 1, 4])"
      ]
     },
     "execution_count": 15,
     "metadata": {},
     "output_type": "execute_result"
    }
   ],
   "source": [
    "predictions = model.predict(x_test)\n",
    "predictions"
   ]
  },
  {
   "cell_type": "code",
   "execution_count": 16,
   "id": "44edb2ca",
   "metadata": {
    "execution": {
     "iopub.execute_input": "2022-07-05T15:23:41.711936Z",
     "iopub.status.busy": "2022-07-05T15:23:41.711259Z",
     "iopub.status.idle": "2022-07-05T15:23:41.724882Z",
     "shell.execute_reply": "2022-07-05T15:23:41.724024Z"
    },
    "papermill": {
     "duration": 0.023444,
     "end_time": "2022-07-05T15:23:41.728022",
     "exception": false,
     "start_time": "2022-07-05T15:23:41.704578",
     "status": "completed"
    },
    "tags": []
   },
   "outputs": [
    {
     "name": "stdout",
     "output_type": "stream",
     "text": [
      "              precision    recall  f1-score   support\n",
      "\n",
      "           1       0.75      0.75      0.75         4\n",
      "           2       1.00      0.50      0.67         4\n",
      "           4       0.00      0.00      0.00         0\n",
      "\n",
      "    accuracy                           0.62         8\n",
      "   macro avg       0.58      0.42      0.47         8\n",
      "weighted avg       0.88      0.62      0.71         8\n",
      "\n"
     ]
    },
    {
     "name": "stderr",
     "output_type": "stream",
     "text": [
      "/opt/conda/lib/python3.7/site-packages/sklearn/metrics/_classification.py:1318: UndefinedMetricWarning: Recall and F-score are ill-defined and being set to 0.0 in labels with no true samples. Use `zero_division` parameter to control this behavior.\n",
      "  _warn_prf(average, modifier, msg_start, len(result))\n",
      "/opt/conda/lib/python3.7/site-packages/sklearn/metrics/_classification.py:1318: UndefinedMetricWarning: Recall and F-score are ill-defined and being set to 0.0 in labels with no true samples. Use `zero_division` parameter to control this behavior.\n",
      "  _warn_prf(average, modifier, msg_start, len(result))\n",
      "/opt/conda/lib/python3.7/site-packages/sklearn/metrics/_classification.py:1318: UndefinedMetricWarning: Recall and F-score are ill-defined and being set to 0.0 in labels with no true samples. Use `zero_division` parameter to control this behavior.\n",
      "  _warn_prf(average, modifier, msg_start, len(result))\n"
     ]
    }
   ],
   "source": [
    "print(classification_report(y_test, predictions))"
   ]
  },
  {
   "cell_type": "code",
   "execution_count": 17,
   "id": "f13cc749",
   "metadata": {
    "execution": {
     "iopub.execute_input": "2022-07-05T15:23:41.741835Z",
     "iopub.status.busy": "2022-07-05T15:23:41.741152Z",
     "iopub.status.idle": "2022-07-05T15:23:41.746691Z",
     "shell.execute_reply": "2022-07-05T15:23:41.745540Z"
    },
    "papermill": {
     "duration": 0.014854,
     "end_time": "2022-07-05T15:23:41.748690",
     "exception": false,
     "start_time": "2022-07-05T15:23:41.733836",
     "status": "completed"
    },
    "tags": []
   },
   "outputs": [
    {
     "name": "stdout",
     "output_type": "stream",
     "text": [
      "0.625\n"
     ]
    }
   ],
   "source": [
    "print(accuracy_score(y_test, predictions))"
   ]
  }
 ],
 "metadata": {
  "kernelspec": {
   "display_name": "Python 3",
   "language": "python",
   "name": "python3"
  },
  "language_info": {
   "codemirror_mode": {
    "name": "ipython",
    "version": 3
   },
   "file_extension": ".py",
   "mimetype": "text/x-python",
   "name": "python",
   "nbconvert_exporter": "python",
   "pygments_lexer": "ipython3",
   "version": "3.7.12"
  },
  "papermill": {
   "default_parameters": {},
   "duration": 12.382081,
   "end_time": "2022-07-05T15:23:42.476298",
   "environment_variables": {},
   "exception": null,
   "input_path": "__notebook__.ipynb",
   "output_path": "__notebook__.ipynb",
   "parameters": {},
   "start_time": "2022-07-05T15:23:30.094217",
   "version": "2.3.4"
  }
 },
 "nbformat": 4,
 "nbformat_minor": 5
}
