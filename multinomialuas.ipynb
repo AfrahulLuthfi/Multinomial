{
 "cells": [
  {
   "cell_type": "code",
   "execution_count": 1,
   "id": "c1731727",
   "metadata": {
    "_cell_guid": "b1076dfc-b9ad-4769-8c92-a6c4dae69d19",
    "_uuid": "8f2839f25d086af736a60e9eeb907d3b93b6e0e5",
    "execution": {
     "iopub.execute_input": "2022-07-05T15:55:40.086856Z",
     "iopub.status.busy": "2022-07-05T15:55:40.086415Z",
     "iopub.status.idle": "2022-07-05T15:55:40.105273Z",
     "shell.execute_reply": "2022-07-05T15:55:40.104160Z"
    },
    "papermill": {
     "duration": 0.029136,
     "end_time": "2022-07-05T15:55:40.108752",
     "exception": false,
     "start_time": "2022-07-05T15:55:40.079616",
     "status": "completed"
    },
    "tags": []
   },
   "outputs": [
    {
     "name": "stdout",
     "output_type": "stream",
     "text": [
      "/kaggle/input/pertambanganuas/pertambanganUAS.csv\n"
     ]
    }
   ],
   "source": [
    "# This Python 3 environment comes with many helpful analytics libraries installed\n",
    "# It is defined by the kaggle/python Docker image: https://github.com/kaggle/docker-python\n",
    "# For example, here's several helpful packages to load\n",
    "\n",
    "import numpy as np # linear algebra\n",
    "import pandas as pd # data processing, CSV file I/O (e.g. pd.read_csv)\n",
    "\n",
    "# Input data files are available in the read-only \"../input/\" directory\n",
    "# For example, running this (by clicking run or pressing Shift+Enter) will list all files under the input directory\n",
    "\n",
    "import os\n",
    "for dirname, _, filenames in os.walk('/kaggle/input'):\n",
    "    for filename in filenames:\n",
    "        print(os.path.join(dirname, filename))\n",
    "\n",
    "# You can write up to 20GB to the current directory (/kaggle/working/) that gets preserved as output when you create a version using \"Save & Run All\" \n",
    "# You can also write temporary files to /kaggle/temp/, but they won't be saved outside of the current session"
   ]
  },
  {
   "cell_type": "code",
   "execution_count": 2,
   "id": "73113a45",
   "metadata": {
    "execution": {
     "iopub.execute_input": "2022-07-05T15:55:40.120131Z",
     "iopub.status.busy": "2022-07-05T15:55:40.119708Z",
     "iopub.status.idle": "2022-07-05T15:55:41.703897Z",
     "shell.execute_reply": "2022-07-05T15:55:41.702906Z"
    },
    "papermill": {
     "duration": 1.592388,
     "end_time": "2022-07-05T15:55:41.706459",
     "exception": false,
     "start_time": "2022-07-05T15:55:40.114071",
     "status": "completed"
    },
    "tags": []
   },
   "outputs": [],
   "source": [
    "import pandas as pd\n",
    "import seaborn as sns\n",
    "from sklearn.metrics import classification_report\n",
    "from sklearn.metrics import accuracy_score\n",
    "from sklearn.model_selection import train_test_split\n",
    "from sklearn.linear_model import LogisticRegression"
   ]
  },
  {
   "cell_type": "code",
   "execution_count": 3,
   "id": "f21d8390",
   "metadata": {
    "execution": {
     "iopub.execute_input": "2022-07-05T15:55:41.716818Z",
     "iopub.status.busy": "2022-07-05T15:55:41.715926Z",
     "iopub.status.idle": "2022-07-05T15:55:41.747953Z",
     "shell.execute_reply": "2022-07-05T15:55:41.746800Z"
    },
    "papermill": {
     "duration": 0.039659,
     "end_time": "2022-07-05T15:55:41.750424",
     "exception": false,
     "start_time": "2022-07-05T15:55:41.710765",
     "status": "completed"
    },
    "tags": []
   },
   "outputs": [
    {
     "data": {
      "text/html": [
       "<div>\n",
       "<style scoped>\n",
       "    .dataframe tbody tr th:only-of-type {\n",
       "        vertical-align: middle;\n",
       "    }\n",
       "\n",
       "    .dataframe tbody tr th {\n",
       "        vertical-align: top;\n",
       "    }\n",
       "\n",
       "    .dataframe thead th {\n",
       "        text-align: right;\n",
       "    }\n",
       "</style>\n",
       "<table border=\"1\" class=\"dataframe\">\n",
       "  <thead>\n",
       "    <tr style=\"text-align: right;\">\n",
       "      <th></th>\n",
       "      <th>Emitten</th>\n",
       "      <th>DER</th>\n",
       "      <th>Operating Profit Margin</th>\n",
       "      <th>Return On Asset</th>\n",
       "      <th>Sales Growth</th>\n",
       "      <th>Category</th>\n",
       "    </tr>\n",
       "  </thead>\n",
       "  <tbody>\n",
       "    <tr>\n",
       "      <th>0</th>\n",
       "      <td>ADRO</td>\n",
       "      <td>0.65</td>\n",
       "      <td>6.663</td>\n",
       "      <td>0.06000</td>\n",
       "      <td>0.575136</td>\n",
       "      <td>2</td>\n",
       "    </tr>\n",
       "    <tr>\n",
       "      <th>1</th>\n",
       "      <td>APEX</td>\n",
       "      <td>1.69</td>\n",
       "      <td>42.550</td>\n",
       "      <td>0.18000</td>\n",
       "      <td>0.189673</td>\n",
       "      <td>1</td>\n",
       "    </tr>\n",
       "    <tr>\n",
       "      <th>2</th>\n",
       "      <td>ARII</td>\n",
       "      <td>8.94</td>\n",
       "      <td>15.080</td>\n",
       "      <td>-0.03865</td>\n",
       "      <td>-0.328694</td>\n",
       "      <td>1</td>\n",
       "    </tr>\n",
       "    <tr>\n",
       "      <th>3</th>\n",
       "      <td>ARTI</td>\n",
       "      <td>-5.43</td>\n",
       "      <td>-30.070</td>\n",
       "      <td>-1.19000</td>\n",
       "      <td>0.000000</td>\n",
       "      <td>1</td>\n",
       "    </tr>\n",
       "    <tr>\n",
       "      <th>4</th>\n",
       "      <td>BIPI</td>\n",
       "      <td>1.42</td>\n",
       "      <td>265.900</td>\n",
       "      <td>0.01000</td>\n",
       "      <td>0.107550</td>\n",
       "      <td>1</td>\n",
       "    </tr>\n",
       "  </tbody>\n",
       "</table>\n",
       "</div>"
      ],
      "text/plain": [
       "  Emitten   DER  Operating Profit Margin  Return On Asset  Sales Growth  \\\n",
       "0    ADRO  0.65                    6.663          0.06000      0.575136   \n",
       "1    APEX  1.69                   42.550          0.18000      0.189673   \n",
       "2    ARII  8.94                   15.080         -0.03865     -0.328694   \n",
       "3    ARTI -5.43                  -30.070         -1.19000      0.000000   \n",
       "4    BIPI  1.42                  265.900          0.01000      0.107550   \n",
       "\n",
       "   Category  \n",
       "0         2  \n",
       "1         1  \n",
       "2         1  \n",
       "3         1  \n",
       "4         1  "
      ]
     },
     "execution_count": 3,
     "metadata": {},
     "output_type": "execute_result"
    }
   ],
   "source": [
    "df = pd.read_csv('../input/pertambanganuas/pertambanganUAS.csv')\n",
    "df.head()"
   ]
  },
  {
   "cell_type": "code",
   "execution_count": 4,
   "id": "7dce4007",
   "metadata": {
    "execution": {
     "iopub.execute_input": "2022-07-05T15:55:41.761262Z",
     "iopub.status.busy": "2022-07-05T15:55:41.760320Z",
     "iopub.status.idle": "2022-07-05T15:55:41.767857Z",
     "shell.execute_reply": "2022-07-05T15:55:41.767115Z"
    },
    "papermill": {
     "duration": 0.015172,
     "end_time": "2022-07-05T15:55:41.770028",
     "exception": false,
     "start_time": "2022-07-05T15:55:41.754856",
     "status": "completed"
    },
    "tags": []
   },
   "outputs": [
    {
     "data": {
      "text/plain": [
       "array([['ADRO', 0.65, 6.663, 0.06, 0.5751356494803226, 2],\n",
       "       ['APEX', 1.69, 42.55, 0.18, 0.1896728016359918, 1],\n",
       "       ['ARII', 8.94, 15.08, -0.038650007, -0.3286944891167619, 1],\n",
       "       ['ARTI', -5.43, -30.07, -1.19, 0.0, 1],\n",
       "       ['BIPI', 1.42, 265.9, 0.01, 0.1075499379302562, 1],\n",
       "       ['BOSS', -26.25, -109.0, -0.3, -0.3717766830120759, 4],\n",
       "       ['BSSR', 0.58, 1.485, 0.41, 1.085816257572466, 2],\n",
       "       ['BUMI', 12.22, 1.02, 0.02, 0.709, 2],\n",
       "       ['BYAN', 0.47, 9.74, 0.46, 1.044436543849853, 2],\n",
       "       ['DEWA', 1.11, 24.64, -0.1202273, -0.1202737873824522, 1],\n",
       "       ['DOID', 4.61, -230.61, -0.02, -0.3176640825935687, 1],\n",
       "       ['DSSA', 0.65, 1.946, -0.02, 0.4362863409410862, 2],\n",
       "       ['ELSA', 0.9, 37.56, 0.01, 0.0530116365523502, 1],\n",
       "       ['ENRG', 1.5, 257.32, 0.03, 0.2499799927358241, 1],\n",
       "       ['FIRE', 0.47, 18.66, 0.03, 0.785, 2],\n",
       "       ['GEMS', 1.15, 2.862, 0.31, 0.4941954569864614, 2],\n",
       "       ['GTBO', 0.32, -9.54, -0.02, 0.0, 1],\n",
       "       ['HRUM', 0.31, 744.89, 0.1, 1.130136422103802, 2],\n",
       "       ['INDY', 3.32, -120.22, -0.02, 0.477538643142828, 2],\n",
       "       ['ITMG', 0.45, 3.887, 0.24, 1.185336, 2],\n",
       "       ['KKGI', 0.31, 131.79, 0.08, 0.8297748608457257, 2],\n",
       "       ['MBAP', 0.52, 699.71, 0.29, 0.5399066632870626, 1],\n",
       "       ['MEDC', 3.28, 1.006, 0.01, -0.2398798296033278, 1],\n",
       "       ['MITI', 0.28, 3.29, 0.0, 0.0, 4],\n",
       "       ['MTFN', -20.54, -17.39, -0.08, -0.1109112276428414, 1],\n",
       "       ['MYON', 0.15, 304.46, 0.18, -0.0738447703375761, 1],\n",
       "       ['PKPK', 0.77, -2.54, -0.06, 0.0, 2],\n",
       "       ['PTBA', 0.53, 4.853, 0.2, 0.6889549045113035, 1],\n",
       "       ['PTRO', 1.2, 208.16, 0.06, 0.2202865965340722, 1],\n",
       "       ['RUIS', 1.84, 14.21, 0.01, 0.0125241905977853, 2],\n",
       "       ['SMMT', 0.4, 128.07, 0.17, 1.426755676840759, 1],\n",
       "       ['SMRU', 1.9, -16.75, -0.02, 0.0, 1],\n",
       "       ['SURE', 0.85, -50.13, -0.05, 0.1506294659163516, 1],\n",
       "       ['TOBA', 1.48, 643.74, 0.06, -0.3683789893515805, 1],\n",
       "       ['TRAM', 0.74, -39.57, 0.0, 0.0, 2],\n",
       "       ['WOWS', 0.27, 0.29, -0.01, 0.0, 2]], dtype=object)"
      ]
     },
     "execution_count": 4,
     "metadata": {},
     "output_type": "execute_result"
    }
   ],
   "source": [
    "np.asarray(df)"
   ]
  },
  {
   "cell_type": "code",
   "execution_count": 5,
   "id": "a13cf340",
   "metadata": {
    "execution": {
     "iopub.execute_input": "2022-07-05T15:55:41.780696Z",
     "iopub.status.busy": "2022-07-05T15:55:41.780023Z",
     "iopub.status.idle": "2022-07-05T15:55:42.541626Z",
     "shell.execute_reply": "2022-07-05T15:55:42.540569Z"
    },
    "papermill": {
     "duration": 0.769964,
     "end_time": "2022-07-05T15:55:42.544331",
     "exception": false,
     "start_time": "2022-07-05T15:55:41.774367",
     "status": "completed"
    },
    "tags": []
   },
   "outputs": [],
   "source": [
    "import statsmodels.api as sm"
   ]
  },
  {
   "cell_type": "code",
   "execution_count": 6,
   "id": "dcf28bd9",
   "metadata": {
    "execution": {
     "iopub.execute_input": "2022-07-05T15:55:42.554691Z",
     "iopub.status.busy": "2022-07-05T15:55:42.554297Z",
     "iopub.status.idle": "2022-07-05T15:55:42.566588Z",
     "shell.execute_reply": "2022-07-05T15:55:42.565441Z"
    },
    "papermill": {
     "duration": 0.02005,
     "end_time": "2022-07-05T15:55:42.568786",
     "exception": false,
     "start_time": "2022-07-05T15:55:42.548736",
     "status": "completed"
    },
    "tags": []
   },
   "outputs": [],
   "source": [
    "df.drop(['Emitten'], axis=1, inplace=True)"
   ]
  },
  {
   "cell_type": "code",
   "execution_count": 7,
   "id": "f7479ace",
   "metadata": {
    "execution": {
     "iopub.execute_input": "2022-07-05T15:55:42.579322Z",
     "iopub.status.busy": "2022-07-05T15:55:42.578591Z",
     "iopub.status.idle": "2022-07-05T15:55:42.591036Z",
     "shell.execute_reply": "2022-07-05T15:55:42.590053Z"
    },
    "papermill": {
     "duration": 0.019844,
     "end_time": "2022-07-05T15:55:42.593038",
     "exception": false,
     "start_time": "2022-07-05T15:55:42.573194",
     "status": "completed"
    },
    "tags": []
   },
   "outputs": [
    {
     "data": {
      "text/html": [
       "<div>\n",
       "<style scoped>\n",
       "    .dataframe tbody tr th:only-of-type {\n",
       "        vertical-align: middle;\n",
       "    }\n",
       "\n",
       "    .dataframe tbody tr th {\n",
       "        vertical-align: top;\n",
       "    }\n",
       "\n",
       "    .dataframe thead th {\n",
       "        text-align: right;\n",
       "    }\n",
       "</style>\n",
       "<table border=\"1\" class=\"dataframe\">\n",
       "  <thead>\n",
       "    <tr style=\"text-align: right;\">\n",
       "      <th></th>\n",
       "      <th>DER</th>\n",
       "      <th>Operating Profit Margin</th>\n",
       "      <th>Return On Asset</th>\n",
       "      <th>Sales Growth</th>\n",
       "    </tr>\n",
       "  </thead>\n",
       "  <tbody>\n",
       "    <tr>\n",
       "      <th>0</th>\n",
       "      <td>0.65</td>\n",
       "      <td>6.663</td>\n",
       "      <td>0.06000</td>\n",
       "      <td>0.575136</td>\n",
       "    </tr>\n",
       "    <tr>\n",
       "      <th>1</th>\n",
       "      <td>1.69</td>\n",
       "      <td>42.550</td>\n",
       "      <td>0.18000</td>\n",
       "      <td>0.189673</td>\n",
       "    </tr>\n",
       "    <tr>\n",
       "      <th>2</th>\n",
       "      <td>8.94</td>\n",
       "      <td>15.080</td>\n",
       "      <td>-0.03865</td>\n",
       "      <td>-0.328694</td>\n",
       "    </tr>\n",
       "    <tr>\n",
       "      <th>3</th>\n",
       "      <td>-5.43</td>\n",
       "      <td>-30.070</td>\n",
       "      <td>-1.19000</td>\n",
       "      <td>0.000000</td>\n",
       "    </tr>\n",
       "    <tr>\n",
       "      <th>4</th>\n",
       "      <td>1.42</td>\n",
       "      <td>265.900</td>\n",
       "      <td>0.01000</td>\n",
       "      <td>0.107550</td>\n",
       "    </tr>\n",
       "  </tbody>\n",
       "</table>\n",
       "</div>"
      ],
      "text/plain": [
       "    DER  Operating Profit Margin  Return On Asset  Sales Growth\n",
       "0  0.65                    6.663          0.06000      0.575136\n",
       "1  1.69                   42.550          0.18000      0.189673\n",
       "2  8.94                   15.080         -0.03865     -0.328694\n",
       "3 -5.43                  -30.070         -1.19000      0.000000\n",
       "4  1.42                  265.900          0.01000      0.107550"
      ]
     },
     "execution_count": 7,
     "metadata": {},
     "output_type": "execute_result"
    }
   ],
   "source": [
    "x = df.drop('Category', axis=1)\n",
    "x.head()"
   ]
  },
  {
   "cell_type": "code",
   "execution_count": 8,
   "id": "c0f49737",
   "metadata": {
    "execution": {
     "iopub.execute_input": "2022-07-05T15:55:42.603324Z",
     "iopub.status.busy": "2022-07-05T15:55:42.602936Z",
     "iopub.status.idle": "2022-07-05T15:55:42.610854Z",
     "shell.execute_reply": "2022-07-05T15:55:42.610173Z"
    },
    "papermill": {
     "duration": 0.015889,
     "end_time": "2022-07-05T15:55:42.613316",
     "exception": false,
     "start_time": "2022-07-05T15:55:42.597427",
     "status": "completed"
    },
    "tags": []
   },
   "outputs": [
    {
     "data": {
      "text/plain": [
       "0    2\n",
       "1    1\n",
       "2    1\n",
       "3    1\n",
       "4    1\n",
       "Name: Category, dtype: int64"
      ]
     },
     "execution_count": 8,
     "metadata": {},
     "output_type": "execute_result"
    }
   ],
   "source": [
    "y = df['Category']\n",
    "y.head()"
   ]
  },
  {
   "cell_type": "code",
   "execution_count": 9,
   "id": "79ef3868",
   "metadata": {
    "execution": {
     "iopub.execute_input": "2022-07-05T15:55:42.625360Z",
     "iopub.status.busy": "2022-07-05T15:55:42.624743Z",
     "iopub.status.idle": "2022-07-05T15:55:42.629912Z",
     "shell.execute_reply": "2022-07-05T15:55:42.629191Z"
    },
    "papermill": {
     "duration": 0.012438,
     "end_time": "2022-07-05T15:55:42.631583",
     "exception": false,
     "start_time": "2022-07-05T15:55:42.619145",
     "status": "completed"
    },
    "tags": []
   },
   "outputs": [],
   "source": [
    "x_train, x_test, y_train, y_test = train_test_split(x,y, test_size=0.2)"
   ]
  },
  {
   "cell_type": "code",
   "execution_count": 10,
   "id": "f60bcbb1",
   "metadata": {
    "execution": {
     "iopub.execute_input": "2022-07-05T15:55:42.642456Z",
     "iopub.status.busy": "2022-07-05T15:55:42.641610Z",
     "iopub.status.idle": "2022-07-05T15:55:42.661579Z",
     "shell.execute_reply": "2022-07-05T15:55:42.660756Z"
    },
    "papermill": {
     "duration": 0.027151,
     "end_time": "2022-07-05T15:55:42.663311",
     "exception": false,
     "start_time": "2022-07-05T15:55:42.636160",
     "status": "completed"
    },
    "tags": []
   },
   "outputs": [
    {
     "data": {
      "text/html": [
       "<div>\n",
       "<style scoped>\n",
       "    .dataframe tbody tr th:only-of-type {\n",
       "        vertical-align: middle;\n",
       "    }\n",
       "\n",
       "    .dataframe tbody tr th {\n",
       "        vertical-align: top;\n",
       "    }\n",
       "\n",
       "    .dataframe thead th {\n",
       "        text-align: right;\n",
       "    }\n",
       "</style>\n",
       "<table border=\"1\" class=\"dataframe\">\n",
       "  <thead>\n",
       "    <tr style=\"text-align: right;\">\n",
       "      <th></th>\n",
       "      <th>const</th>\n",
       "      <th>DER</th>\n",
       "      <th>Operating Profit Margin</th>\n",
       "      <th>Return On Asset</th>\n",
       "      <th>Sales Growth</th>\n",
       "    </tr>\n",
       "  </thead>\n",
       "  <tbody>\n",
       "    <tr>\n",
       "      <th>24</th>\n",
       "      <td>1.0</td>\n",
       "      <td>-20.54</td>\n",
       "      <td>-17.390</td>\n",
       "      <td>-0.080000</td>\n",
       "      <td>-0.110911</td>\n",
       "    </tr>\n",
       "    <tr>\n",
       "      <th>7</th>\n",
       "      <td>1.0</td>\n",
       "      <td>12.22</td>\n",
       "      <td>1.020</td>\n",
       "      <td>0.020000</td>\n",
       "      <td>0.709000</td>\n",
       "    </tr>\n",
       "    <tr>\n",
       "      <th>29</th>\n",
       "      <td>1.0</td>\n",
       "      <td>1.84</td>\n",
       "      <td>14.210</td>\n",
       "      <td>0.010000</td>\n",
       "      <td>0.012524</td>\n",
       "    </tr>\n",
       "    <tr>\n",
       "      <th>2</th>\n",
       "      <td>1.0</td>\n",
       "      <td>8.94</td>\n",
       "      <td>15.080</td>\n",
       "      <td>-0.038650</td>\n",
       "      <td>-0.328694</td>\n",
       "    </tr>\n",
       "    <tr>\n",
       "      <th>28</th>\n",
       "      <td>1.0</td>\n",
       "      <td>1.20</td>\n",
       "      <td>208.160</td>\n",
       "      <td>0.060000</td>\n",
       "      <td>0.220287</td>\n",
       "    </tr>\n",
       "    <tr>\n",
       "      <th>30</th>\n",
       "      <td>1.0</td>\n",
       "      <td>0.40</td>\n",
       "      <td>128.070</td>\n",
       "      <td>0.170000</td>\n",
       "      <td>1.426756</td>\n",
       "    </tr>\n",
       "    <tr>\n",
       "      <th>15</th>\n",
       "      <td>1.0</td>\n",
       "      <td>1.15</td>\n",
       "      <td>2.862</td>\n",
       "      <td>0.310000</td>\n",
       "      <td>0.494195</td>\n",
       "    </tr>\n",
       "    <tr>\n",
       "      <th>9</th>\n",
       "      <td>1.0</td>\n",
       "      <td>1.11</td>\n",
       "      <td>24.640</td>\n",
       "      <td>-0.120227</td>\n",
       "      <td>-0.120274</td>\n",
       "    </tr>\n",
       "    <tr>\n",
       "      <th>35</th>\n",
       "      <td>1.0</td>\n",
       "      <td>0.27</td>\n",
       "      <td>0.290</td>\n",
       "      <td>-0.010000</td>\n",
       "      <td>0.000000</td>\n",
       "    </tr>\n",
       "    <tr>\n",
       "      <th>5</th>\n",
       "      <td>1.0</td>\n",
       "      <td>-26.25</td>\n",
       "      <td>-109.000</td>\n",
       "      <td>-0.300000</td>\n",
       "      <td>-0.371777</td>\n",
       "    </tr>\n",
       "    <tr>\n",
       "      <th>16</th>\n",
       "      <td>1.0</td>\n",
       "      <td>0.32</td>\n",
       "      <td>-9.540</td>\n",
       "      <td>-0.020000</td>\n",
       "      <td>0.000000</td>\n",
       "    </tr>\n",
       "    <tr>\n",
       "      <th>26</th>\n",
       "      <td>1.0</td>\n",
       "      <td>0.77</td>\n",
       "      <td>-2.540</td>\n",
       "      <td>-0.060000</td>\n",
       "      <td>0.000000</td>\n",
       "    </tr>\n",
       "    <tr>\n",
       "      <th>14</th>\n",
       "      <td>1.0</td>\n",
       "      <td>0.47</td>\n",
       "      <td>18.660</td>\n",
       "      <td>0.030000</td>\n",
       "      <td>0.785000</td>\n",
       "    </tr>\n",
       "    <tr>\n",
       "      <th>22</th>\n",
       "      <td>1.0</td>\n",
       "      <td>3.28</td>\n",
       "      <td>1.006</td>\n",
       "      <td>0.010000</td>\n",
       "      <td>-0.239880</td>\n",
       "    </tr>\n",
       "    <tr>\n",
       "      <th>3</th>\n",
       "      <td>1.0</td>\n",
       "      <td>-5.43</td>\n",
       "      <td>-30.070</td>\n",
       "      <td>-1.190000</td>\n",
       "      <td>0.000000</td>\n",
       "    </tr>\n",
       "    <tr>\n",
       "      <th>25</th>\n",
       "      <td>1.0</td>\n",
       "      <td>0.15</td>\n",
       "      <td>304.460</td>\n",
       "      <td>0.180000</td>\n",
       "      <td>-0.073845</td>\n",
       "    </tr>\n",
       "    <tr>\n",
       "      <th>27</th>\n",
       "      <td>1.0</td>\n",
       "      <td>0.53</td>\n",
       "      <td>4.853</td>\n",
       "      <td>0.200000</td>\n",
       "      <td>0.688955</td>\n",
       "    </tr>\n",
       "    <tr>\n",
       "      <th>11</th>\n",
       "      <td>1.0</td>\n",
       "      <td>0.65</td>\n",
       "      <td>1.946</td>\n",
       "      <td>-0.020000</td>\n",
       "      <td>0.436286</td>\n",
       "    </tr>\n",
       "    <tr>\n",
       "      <th>23</th>\n",
       "      <td>1.0</td>\n",
       "      <td>0.28</td>\n",
       "      <td>3.290</td>\n",
       "      <td>0.000000</td>\n",
       "      <td>0.000000</td>\n",
       "    </tr>\n",
       "    <tr>\n",
       "      <th>17</th>\n",
       "      <td>1.0</td>\n",
       "      <td>0.31</td>\n",
       "      <td>744.890</td>\n",
       "      <td>0.100000</td>\n",
       "      <td>1.130136</td>\n",
       "    </tr>\n",
       "    <tr>\n",
       "      <th>12</th>\n",
       "      <td>1.0</td>\n",
       "      <td>0.90</td>\n",
       "      <td>37.560</td>\n",
       "      <td>0.010000</td>\n",
       "      <td>0.053012</td>\n",
       "    </tr>\n",
       "    <tr>\n",
       "      <th>10</th>\n",
       "      <td>1.0</td>\n",
       "      <td>4.61</td>\n",
       "      <td>-230.610</td>\n",
       "      <td>-0.020000</td>\n",
       "      <td>-0.317664</td>\n",
       "    </tr>\n",
       "    <tr>\n",
       "      <th>32</th>\n",
       "      <td>1.0</td>\n",
       "      <td>0.85</td>\n",
       "      <td>-50.130</td>\n",
       "      <td>-0.050000</td>\n",
       "      <td>0.150629</td>\n",
       "    </tr>\n",
       "    <tr>\n",
       "      <th>21</th>\n",
       "      <td>1.0</td>\n",
       "      <td>0.52</td>\n",
       "      <td>699.710</td>\n",
       "      <td>0.290000</td>\n",
       "      <td>0.539907</td>\n",
       "    </tr>\n",
       "    <tr>\n",
       "      <th>4</th>\n",
       "      <td>1.0</td>\n",
       "      <td>1.42</td>\n",
       "      <td>265.900</td>\n",
       "      <td>0.010000</td>\n",
       "      <td>0.107550</td>\n",
       "    </tr>\n",
       "    <tr>\n",
       "      <th>8</th>\n",
       "      <td>1.0</td>\n",
       "      <td>0.47</td>\n",
       "      <td>9.740</td>\n",
       "      <td>0.460000</td>\n",
       "      <td>1.044437</td>\n",
       "    </tr>\n",
       "    <tr>\n",
       "      <th>18</th>\n",
       "      <td>1.0</td>\n",
       "      <td>3.32</td>\n",
       "      <td>-120.220</td>\n",
       "      <td>-0.020000</td>\n",
       "      <td>0.477539</td>\n",
       "    </tr>\n",
       "    <tr>\n",
       "      <th>0</th>\n",
       "      <td>1.0</td>\n",
       "      <td>0.65</td>\n",
       "      <td>6.663</td>\n",
       "      <td>0.060000</td>\n",
       "      <td>0.575136</td>\n",
       "    </tr>\n",
       "  </tbody>\n",
       "</table>\n",
       "</div>"
      ],
      "text/plain": [
       "    const    DER  Operating Profit Margin  Return On Asset  Sales Growth\n",
       "24    1.0 -20.54                  -17.390        -0.080000     -0.110911\n",
       "7     1.0  12.22                    1.020         0.020000      0.709000\n",
       "29    1.0   1.84                   14.210         0.010000      0.012524\n",
       "2     1.0   8.94                   15.080        -0.038650     -0.328694\n",
       "28    1.0   1.20                  208.160         0.060000      0.220287\n",
       "30    1.0   0.40                  128.070         0.170000      1.426756\n",
       "15    1.0   1.15                    2.862         0.310000      0.494195\n",
       "9     1.0   1.11                   24.640        -0.120227     -0.120274\n",
       "35    1.0   0.27                    0.290        -0.010000      0.000000\n",
       "5     1.0 -26.25                 -109.000        -0.300000     -0.371777\n",
       "16    1.0   0.32                   -9.540        -0.020000      0.000000\n",
       "26    1.0   0.77                   -2.540        -0.060000      0.000000\n",
       "14    1.0   0.47                   18.660         0.030000      0.785000\n",
       "22    1.0   3.28                    1.006         0.010000     -0.239880\n",
       "3     1.0  -5.43                  -30.070        -1.190000      0.000000\n",
       "25    1.0   0.15                  304.460         0.180000     -0.073845\n",
       "27    1.0   0.53                    4.853         0.200000      0.688955\n",
       "11    1.0   0.65                    1.946        -0.020000      0.436286\n",
       "23    1.0   0.28                    3.290         0.000000      0.000000\n",
       "17    1.0   0.31                  744.890         0.100000      1.130136\n",
       "12    1.0   0.90                   37.560         0.010000      0.053012\n",
       "10    1.0   4.61                 -230.610        -0.020000     -0.317664\n",
       "32    1.0   0.85                  -50.130        -0.050000      0.150629\n",
       "21    1.0   0.52                  699.710         0.290000      0.539907\n",
       "4     1.0   1.42                  265.900         0.010000      0.107550\n",
       "8     1.0   0.47                    9.740         0.460000      1.044437\n",
       "18    1.0   3.32                 -120.220        -0.020000      0.477539\n",
       "0     1.0   0.65                    6.663         0.060000      0.575136"
      ]
     },
     "execution_count": 10,
     "metadata": {},
     "output_type": "execute_result"
    }
   ],
   "source": [
    "x_train_sm = sm.add_constant(x_train)\n",
    "x_train_sm"
   ]
  },
  {
   "cell_type": "code",
   "execution_count": 11,
   "id": "f9dcaec6",
   "metadata": {
    "execution": {
     "iopub.execute_input": "2022-07-05T15:55:42.674998Z",
     "iopub.status.busy": "2022-07-05T15:55:42.674306Z",
     "iopub.status.idle": "2022-07-05T15:55:42.705393Z",
     "shell.execute_reply": "2022-07-05T15:55:42.704155Z"
    },
    "papermill": {
     "duration": 0.04062,
     "end_time": "2022-07-05T15:55:42.708841",
     "exception": false,
     "start_time": "2022-07-05T15:55:42.668221",
     "status": "completed"
    },
    "tags": []
   },
   "outputs": [
    {
     "name": "stdout",
     "output_type": "stream",
     "text": [
      "Optimization terminated successfully.\n",
      "         Current function value: 0.668939\n",
      "         Iterations 9\n"
     ]
    }
   ],
   "source": [
    "#logit_mod = sm.Logit(y_train, x_train_sm\n",
    "                     \n",
    "mnlogit_mod = sm.MNLogit(y_train, x_train_sm)\n",
    "mnlogit_fit = mnlogit_mod.fit()"
   ]
  },
  {
   "cell_type": "code",
   "execution_count": 12,
   "id": "d8ab6f47",
   "metadata": {
    "execution": {
     "iopub.execute_input": "2022-07-05T15:55:42.730744Z",
     "iopub.status.busy": "2022-07-05T15:55:42.730187Z",
     "iopub.status.idle": "2022-07-05T15:55:42.788307Z",
     "shell.execute_reply": "2022-07-05T15:55:42.787100Z"
    },
    "papermill": {
     "duration": 0.074925,
     "end_time": "2022-07-05T15:55:42.793659",
     "exception": false,
     "start_time": "2022-07-05T15:55:42.718734",
     "status": "completed"
    },
    "tags": []
   },
   "outputs": [
    {
     "name": "stdout",
     "output_type": "stream",
     "text": [
      "                          MNLogit Regression Results                          \n",
      "==============================================================================\n",
      "Dep. Variable:               Category   No. Observations:                   28\n",
      "Model:                        MNLogit   Df Residuals:                       18\n",
      "Method:                           MLE   Df Model:                            8\n",
      "Date:                Tue, 05 Jul 2022   Pseudo R-squ.:                  0.2483\n",
      "Time:                        15:55:42   Log-Likelihood:                -18.730\n",
      "converged:                       True   LL-Null:                       -24.918\n",
      "Covariance Type:            nonrobust   LLR p-value:                    0.1352\n",
      "===========================================================================================\n",
      "             Category=2       coef    std err          z      P>|z|      [0.025      0.975]\n",
      "-------------------------------------------------------------------------------------------\n",
      "const                      -0.9847      0.637     -1.546      0.122      -2.233       0.264\n",
      "DER                         0.1047      0.160      0.656      0.512      -0.208       0.417\n",
      "Operating Profit Margin    -0.0026      0.002     -1.119      0.263      -0.007       0.002\n",
      "Return On Asset             0.4845      2.448      0.198      0.843      -4.313       5.282\n",
      "Sales Growth                2.4626      1.305      1.887      0.059      -0.095       5.020\n",
      "-------------------------------------------------------------------------------------------\n",
      "             Category=4       coef    std err          z      P>|z|      [0.025      0.975]\n",
      "-------------------------------------------------------------------------------------------\n",
      "const                      -2.4523      1.116     -2.198      0.028      -4.640      -0.265\n",
      "DER                        -0.0928      0.083     -1.123      0.261      -0.255       0.069\n",
      "Operating Profit Margin    -0.0039      0.010     -0.398      0.691      -0.023       0.015\n",
      "Return On Asset             1.1012      4.470      0.246      0.805      -7.660       9.862\n",
      "Sales Growth               -2.4466      5.109     -0.479      0.632     -12.460       7.567\n",
      "===========================================================================================\n"
     ]
    }
   ],
   "source": [
    "print (mnlogit_fit.summary())"
   ]
  },
  {
   "cell_type": "code",
   "execution_count": 13,
   "id": "4f5283c4",
   "metadata": {
    "execution": {
     "iopub.execute_input": "2022-07-05T15:55:42.816974Z",
     "iopub.status.busy": "2022-07-05T15:55:42.816412Z",
     "iopub.status.idle": "2022-07-05T15:55:42.856089Z",
     "shell.execute_reply": "2022-07-05T15:55:42.854943Z"
    },
    "papermill": {
     "duration": 0.055039,
     "end_time": "2022-07-05T15:55:42.858765",
     "exception": false,
     "start_time": "2022-07-05T15:55:42.803726",
     "status": "completed"
    },
    "tags": []
   },
   "outputs": [
    {
     "data": {
      "text/plain": [
       "LogisticRegression(multi_class='ovr')"
      ]
     },
     "execution_count": 13,
     "metadata": {},
     "output_type": "execute_result"
    }
   ],
   "source": [
    "model = LogisticRegression(multi_class='ovr')\n",
    "model.fit(x_train, y_train)"
   ]
  },
  {
   "cell_type": "code",
   "execution_count": 14,
   "id": "dabdbac7",
   "metadata": {
    "execution": {
     "iopub.execute_input": "2022-07-05T15:55:42.871719Z",
     "iopub.status.busy": "2022-07-05T15:55:42.871331Z",
     "iopub.status.idle": "2022-07-05T15:55:42.880228Z",
     "shell.execute_reply": "2022-07-05T15:55:42.879028Z"
    },
    "papermill": {
     "duration": 0.019567,
     "end_time": "2022-07-05T15:55:42.883865",
     "exception": false,
     "start_time": "2022-07-05T15:55:42.864298",
     "status": "completed"
    },
    "tags": []
   },
   "outputs": [
    {
     "data": {
      "text/plain": [
       "array([[0.57900777, 0.36624554, 0.05474669],\n",
       "       [0.64376614, 0.34793004, 0.00830381],\n",
       "       [0.28641826, 0.67937358, 0.03420816],\n",
       "       [0.43807522, 0.54406132, 0.01786347],\n",
       "       [0.27774537, 0.68902374, 0.03323089]])"
      ]
     },
     "execution_count": 14,
     "metadata": {},
     "output_type": "execute_result"
    }
   ],
   "source": [
    "model.predict_proba(x_test)[0:5]"
   ]
  },
  {
   "cell_type": "code",
   "execution_count": 15,
   "id": "7cbd3eb4",
   "metadata": {
    "execution": {
     "iopub.execute_input": "2022-07-05T15:55:42.896591Z",
     "iopub.status.busy": "2022-07-05T15:55:42.895481Z",
     "iopub.status.idle": "2022-07-05T15:55:42.902984Z",
     "shell.execute_reply": "2022-07-05T15:55:42.902282Z"
    },
    "papermill": {
     "duration": 0.015759,
     "end_time": "2022-07-05T15:55:42.904789",
     "exception": false,
     "start_time": "2022-07-05T15:55:42.889030",
     "status": "completed"
    },
    "tags": []
   },
   "outputs": [
    {
     "data": {
      "text/plain": [
       "array([1, 1, 2, 2, 2, 1, 1, 1])"
      ]
     },
     "execution_count": 15,
     "metadata": {},
     "output_type": "execute_result"
    }
   ],
   "source": [
    "predictions = model.predict(x_test)\n",
    "predictions"
   ]
  },
  {
   "cell_type": "code",
   "execution_count": 16,
   "id": "9d8604ba",
   "metadata": {
    "execution": {
     "iopub.execute_input": "2022-07-05T15:55:42.917547Z",
     "iopub.status.busy": "2022-07-05T15:55:42.916673Z",
     "iopub.status.idle": "2022-07-05T15:55:42.925588Z",
     "shell.execute_reply": "2022-07-05T15:55:42.924448Z"
    },
    "papermill": {
     "duration": 0.018167,
     "end_time": "2022-07-05T15:55:42.928346",
     "exception": false,
     "start_time": "2022-07-05T15:55:42.910179",
     "status": "completed"
    },
    "tags": []
   },
   "outputs": [
    {
     "name": "stdout",
     "output_type": "stream",
     "text": [
      "              precision    recall  f1-score   support\n",
      "\n",
      "           1       0.80      1.00      0.89         4\n",
      "           2       1.00      0.75      0.86         4\n",
      "\n",
      "    accuracy                           0.88         8\n",
      "   macro avg       0.90      0.88      0.87         8\n",
      "weighted avg       0.90      0.88      0.87         8\n",
      "\n"
     ]
    }
   ],
   "source": [
    "print(classification_report(y_test, predictions))"
   ]
  },
  {
   "cell_type": "code",
   "execution_count": 17,
   "id": "d673a7f9",
   "metadata": {
    "execution": {
     "iopub.execute_input": "2022-07-05T15:55:42.941631Z",
     "iopub.status.busy": "2022-07-05T15:55:42.941254Z",
     "iopub.status.idle": "2022-07-05T15:55:42.947048Z",
     "shell.execute_reply": "2022-07-05T15:55:42.946125Z"
    },
    "papermill": {
     "duration": 0.015271,
     "end_time": "2022-07-05T15:55:42.949776",
     "exception": false,
     "start_time": "2022-07-05T15:55:42.934505",
     "status": "completed"
    },
    "tags": []
   },
   "outputs": [
    {
     "name": "stdout",
     "output_type": "stream",
     "text": [
      "0.875\n"
     ]
    }
   ],
   "source": [
    "print(accuracy_score(y_test, predictions))"
   ]
  }
 ],
 "metadata": {
  "kernelspec": {
   "display_name": "Python 3",
   "language": "python",
   "name": "python3"
  },
  "language_info": {
   "codemirror_mode": {
    "name": "ipython",
    "version": 3
   },
   "file_extension": ".py",
   "mimetype": "text/x-python",
   "name": "python",
   "nbconvert_exporter": "python",
   "pygments_lexer": "ipython3",
   "version": "3.7.12"
  },
  "papermill": {
   "default_parameters": {},
   "duration": 12.746219,
   "end_time": "2022-07-05T15:55:43.777495",
   "environment_variables": {},
   "exception": null,
   "input_path": "__notebook__.ipynb",
   "output_path": "__notebook__.ipynb",
   "parameters": {},
   "start_time": "2022-07-05T15:55:31.031276",
   "version": "2.3.4"
  }
 },
 "nbformat": 4,
 "nbformat_minor": 5
}
